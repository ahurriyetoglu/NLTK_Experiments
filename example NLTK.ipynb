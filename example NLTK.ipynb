{
 "metadata": {
  "name": "example NLTK"
 },
 "nbformat": 3,
 "nbformat_minor": 0,
 "worksheets": [
  {
   "cells": [
    {
     "cell_type": "code",
     "collapsed": false,
     "input": [
      "%pylab inline\n",
      "plt.rc('figure', figsize=(8, 5))\n",
      "import nltk"
     ],
     "language": "python",
     "metadata": {},
     "outputs": [
      {
       "output_type": "stream",
       "stream": "stdout",
       "text": [
        "\n",
        "Welcome to pylab, a matplotlib-based Python environment [backend: module://IPython.zmq.pylab.backend_inline].\n",
        "For more information, type 'help(pylab)'.\n"
       ]
      }
     ],
     "prompt_number": 3
    },
    {
     "cell_type": "code",
     "collapsed": false,
     "input": [
      "# other corpus, if needed\n",
      "#nltk.download()"
     ],
     "language": "python",
     "metadata": {},
     "outputs": [],
     "prompt_number": 4
    },
    {
     "cell_type": "code",
     "collapsed": false,
     "input": [
      "from nltk.book import *"
     ],
     "language": "python",
     "metadata": {},
     "outputs": [
      {
       "output_type": "stream",
       "stream": "stdout",
       "text": [
        "*** Introductory Examples for the NLTK Book ***\n",
        "Loading text1, ..., text9 and sent1, ..., sent9\n",
        "Type the name of the text or sentence to view it.\n",
        "Type: 'texts()' or 'sents()' to list the materials.\n",
        "text1:"
       ]
      },
      {
       "output_type": "stream",
       "stream": "stdout",
       "text": [
        " Moby Dick by Herman Melville 1851\n",
        "text2:"
       ]
      },
      {
       "output_type": "stream",
       "stream": "stdout",
       "text": [
        " Sense and Sensibility by Jane Austen 1811\n",
        "text3:"
       ]
      },
      {
       "output_type": "stream",
       "stream": "stdout",
       "text": [
        " The Book of Genesis\n",
        "text4:"
       ]
      },
      {
       "output_type": "stream",
       "stream": "stdout",
       "text": [
        " Inaugural Address Corpus\n",
        "text5:"
       ]
      },
      {
       "output_type": "stream",
       "stream": "stdout",
       "text": [
        " Chat Corpus\n",
        "text6: Monty Python and the Holy Grail\n",
        "text7:"
       ]
      },
      {
       "output_type": "stream",
       "stream": "stdout",
       "text": [
        " Wall Street Journal\n",
        "text8: Personals Corpus\n",
        "text9:"
       ]
      },
      {
       "output_type": "stream",
       "stream": "stdout",
       "text": [
        " The Man Who Was Thursday by G . K . Chesterton 1908\n"
       ]
      }
     ],
     "prompt_number": 5
    },
    {
     "cell_type": "raw",
     "metadata": {},
     "source": [
      "Description of the NPS Chat Corpus -- text5\n",
      "The NPS Chat Corpus, Release 1.0 consists of 10,567 posts out of approximately 500,000 posts we have gathered from various online chat services in accordance with their terms of service. \n",
      "\n",
      "URL: http://faculty.nps.edu/cmartell/NPSChat.htm\n",
      "\n",
      "Files in the corpus\n",
      "10-19-20s_706posts.xml\n",
      "10-19-30s_705posts.xml\n",
      "10-19-40s_686posts.xml\n",
      "10-19-adults_706posts.xml\n",
      "10-24-40s_706posts.xml\n",
      "10-26-teens_706posts.xml\n",
      "11-06-adults_706posts.xml\n",
      "11-08-20s_705posts.xml\n",
      "11-08-40s_706posts.xml\n",
      "11-08-adults_705posts.xml\n",
      "11-08-teens_706posts.xml\n",
      "11-09-20s_706posts.xml\n",
      "11-09-40s_706posts.xml\n",
      "11-09-adults_706posts.xml\n",
      "11-09-teens_706posts.xml\n",
      "README.txt\n",
      "postClassPOSTagset.xsd"
     ]
    },
    {
     "cell_type": "code",
     "collapsed": false,
     "input": [
      "text6.concordance(\"swallow\")"
     ],
     "language": "python",
     "metadata": {},
     "outputs": [
      {
       "output_type": "stream",
       "stream": "stdout",
       "text": [
        "Building index...\n",
        "Displaying 10 of 10 matches:\n",
        " is a temperate zone . ARTHUR : The swallow may fly south with the sun or the h\n",
        "be carried . SOLDIER # 1 : What ? A swallow carrying a coconut ? ARTHUR : It co\n",
        "o maintain air - speed velocity , a swallow needs to beat its wings forty - thr\n",
        ": It could be carried by an African swallow ! SOLDIER # 1 : Oh , yeah , an Afri\n",
        "OLDIER # 1 : Oh , yeah , an African swallow maybe , but not a European swallow \n",
        " swallow maybe , but not a European swallow . That ' s my point . SOLDIER # 2 :\n",
        " and Sir Bedevere , not more than a swallow ' s flight away , had discovered so\n",
        "omething . Oh , that ' s an unladen swallow ' s flight , obviously . I mean , t\n",
        " air - speed velocity of an unladen swallow ? ARTHUR : What do you mean ? An Af\n",
        "o you mean ? An African or European swallow ? BRIDGEKEEPER : Huh ? I -- I don '\n"
       ]
      }
     ],
     "prompt_number": 6
    },
    {
     "cell_type": "code",
     "collapsed": false,
     "input": [
      "text6.concordance(\"Neee\")"
     ],
     "language": "python",
     "metadata": {},
     "outputs": [
      {
       "output_type": "stream",
       "stream": "stdout",
       "text": [
        "Displaying 2 of 2 matches:\n",
        "f the sacred words : Ni , Peng , and Neee - wom ! RANDOM : Neee - wom ! ARTHUR\n",
        "i , Peng , and Neee - wom ! RANDOM : Neee - wom ! ARTHUR : Those who hear them\n"
       ]
      }
     ],
     "prompt_number": 7
    },
    {
     "cell_type": "code",
     "collapsed": false,
     "input": [
      "text6.similar(\"swallow\")"
     ],
     "language": "python",
     "metadata": {},
     "outputs": [
      {
       "output_type": "stream",
       "stream": "stdout",
       "text": [
        "Building word-context index...\n",
        "plover"
       ]
      },
      {
       "output_type": "stream",
       "stream": "stdout",
       "text": [
        "\n"
       ]
      }
     ],
     "prompt_number": 8
    },
    {
     "cell_type": "code",
     "collapsed": false,
     "input": [
      "text6.common_contexts([\"dead\", \"kill\"])"
     ],
     "language": "python",
     "metadata": {},
     "outputs": [
      {
       "output_type": "stream",
       "stream": "stdout",
       "text": [
        "No common contexts were found\n"
       ]
      }
     ],
     "prompt_number": 9
    },
    {
     "cell_type": "code",
     "collapsed": false,
     "input": [
      "text6.dispersion_plot([\"knight\", \"air\", \"speed\", \"african\", \"swallow\", \"dead\"])"
     ],
     "language": "python",
     "metadata": {},
     "outputs": [
      {
       "output_type": "display_data",
       "png": "[encoded data removed]"
      }
     ],
     "prompt_number": 10
    },
    {
     "cell_type": "code",
     "collapsed": false,
     "input": [
      "#create random text sequence using vocabulary\n",
      "text6.generate()"
     ],
     "language": "python",
     "metadata": {},
     "outputs": [
      {
       "output_type": "stream",
       "stream": "stdout",
       "text": [
        "Building ngram index...\n",
        "SCENE 1 : Pull the other side he see . DENNIS : Ah ? VILLAGER # 2 :\n",
        "Apples ! VILLAGER # 2 : Run away ! And get that suit on ! Hang on !\n",
        "GALAHAD : Oh , not you . Oh , I am a shrubber . My name is it you want\n",
        "? HEAD KNIGHT : I don ' t think he ' s unhealthy . GALAHAD : Look , if\n",
        "I went ' round saying I was saved at the castle seems to have ... [\n",
        "squeak ] BORS : Aaaugh ! HEAD KNIGHT :"
       ]
      },
      {
       "output_type": "stream",
       "stream": "stdout",
       "text": [
        "\n"
       ]
      }
     ],
     "prompt_number": 11
    },
    {
     "cell_type": "code",
     "collapsed": false,
     "input": [
      "def lexical_diversity(text):\n",
      "    return len(text)/len(set(text))\n",
      "\n",
      "lexical_diversity(text6)"
     ],
     "language": "python",
     "metadata": {},
     "outputs": [
      {
       "output_type": "pyout",
       "prompt_number": 12,
       "text": [
        "7"
       ]
      }
     ],
     "prompt_number": 12
    },
    {
     "cell_type": "code",
     "collapsed": false,
     "input": [
      "len(set(text6))   #total unique words"
     ],
     "language": "python",
     "metadata": {},
     "outputs": [
      {
       "output_type": "pyout",
       "prompt_number": 13,
       "text": [
        "2166"
       ]
      }
     ],
     "prompt_number": 13
    },
    {
     "cell_type": "code",
     "collapsed": false,
     "input": [
      "#sents()  #opening sentences\n",
      "texts()   #list of texts"
     ],
     "language": "python",
     "metadata": {},
     "outputs": [
      {
       "output_type": "stream",
       "stream": "stdout",
       "text": [
        "text1: Moby Dick by Herman Melville 1851\n",
        "text2: Sense and Sensibility by Jane Austen 1811\n",
        "text3: The Book of Genesis\n",
        "text4: Inaugural Address Corpus\n",
        "text5: Chat Corpus\n",
        "text6: Monty Python and the Holy Grail\n",
        "text7: Wall Street Journal\n",
        "text8: Personals Corpus\n",
        "text9: The Man Who Was Thursday by G . K . Chesterton 1908\n"
       ]
      }
     ],
     "prompt_number": 14
    },
    {
     "cell_type": "code",
     "collapsed": false,
     "input": [
      "fdist6 = FreqDist(text6)\n",
      "vocab6 = fdist6.keys()\n",
      "fifty_popular_words = vocab6[:50]\n",
      "print fifty_popular_words\n",
      "fdist6.plot(50, cumulative=True)"
     ],
     "language": "python",
     "metadata": {},
     "outputs": [
      {
       "output_type": "stream",
       "stream": "stdout",
       "text": [
        "[':', '.', '!', ',', \"'\", '[', ']', 'the', 'I', 'ARTHUR', '?', 'you', 'a', 'of', '--', 'to', 's', 'and', '#', '...', 'Oh', 'it', 'is', '-', 'in', 'that', 't', '1', 'LAUNCELOT', 'No', 'your', 'not', 'GALAHAD', 'KNIGHT', 'What', 'FATHER', 'we', 'BEDEVERE', 'You', 'We', 'this', 'no', 'HEAD', 'Well', 'GUARD', 'have', 'Sir', 'are', 'A', 'And']\n"
       ]
      },
      {
       "output_type": "display_data",
       "png": "[encoded data removed]"
      }
     ],
     "prompt_number": 15
    },
    {
     "cell_type": "code",
     "collapsed": false,
     "input": [
      "text6.collocations()"
     ],
     "language": "python",
     "metadata": {},
     "outputs": [
      {
       "output_type": "stream",
       "stream": "stdout",
       "text": [
        "Building collocations list\n",
        "BLACK KNIGHT; HEAD KNIGHT; Holy Grail; FRENCH GUARD; Sir Robin; Run\n",
        "away; CARTOON CHARACTER; King Arthur; Iesu domine; Pie Iesu; DEAD\n",
        "PERSON; Round Table; OLD MAN; dramatic chord; dona eis; eis requiem;\n",
        "LEFT HEAD; FRENCH GUARDS; music stops; Sir Launcelot"
       ]
      },
      {
       "output_type": "stream",
       "stream": "stdout",
       "text": [
        "\n"
       ]
      }
     ],
     "prompt_number": 17
    },
    {
     "cell_type": "code",
     "collapsed": false,
     "input": [
      "bigrams([\"we\", \"the\", \"people\"])"
     ],
     "language": "python",
     "metadata": {},
     "outputs": [
      {
       "output_type": "pyout",
       "prompt_number": 22,
       "text": [
        "[('we', 'the'), ('the', 'people')]"
       ]
      }
     ],
     "prompt_number": 22
    },
    {
     "cell_type": "code",
     "collapsed": false,
     "input": [
      "nltk.corpus.gutenberg.fileids()"
     ],
     "language": "python",
     "metadata": {},
     "outputs": [
      {
       "output_type": "pyout",
       "prompt_number": 23,
       "text": [
        "['austen-emma.txt',\n",
        " 'austen-persuasion.txt',\n",
        " 'austen-sense.txt',\n",
        " 'bible-kjv.txt',\n",
        " 'blake-poems.txt',\n",
        " 'bryant-stories.txt',\n",
        " 'burgess-busterbrown.txt',\n",
        " 'carroll-alice.txt',\n",
        " 'chesterton-ball.txt',\n",
        " 'chesterton-brown.txt',\n",
        " 'chesterton-thursday.txt',\n",
        " 'edgeworth-parents.txt',\n",
        " 'melville-moby_dick.txt',\n",
        " 'milton-paradise.txt',\n",
        " 'shakespeare-caesar.txt',\n",
        " 'shakespeare-hamlet.txt',\n",
        " 'shakespeare-macbeth.txt',\n",
        " 'whitman-leaves.txt']"
       ]
      }
     ],
     "prompt_number": 23
    },
    {
     "cell_type": "code",
     "collapsed": false,
     "input": [
      "emma = nltk.corpus.gutenberg.words('austen-emma.txt')\n",
      "len(emma)"
     ],
     "language": "python",
     "metadata": {},
     "outputs": [
      {
       "output_type": "pyout",
       "prompt_number": 28,
       "text": [
        "192427"
       ]
      }
     ],
     "prompt_number": 28
    },
    {
     "cell_type": "code",
     "collapsed": false,
     "input": [
      "len(text6.words())"
     ],
     "language": "python",
     "metadata": {},
     "outputs": [
      {
       "ename": "AttributeError",
       "evalue": "'Text' object has no attribute 'words'",
       "output_type": "pyerr",
       "traceback": [
        "\u001b[0;31m---------------------------------------------------------------------------\u001b[0m\n\u001b[0;31mAttributeError\u001b[0m                            Traceback (most recent call last)",
        "\u001b[0;32m<ipython-input-29-e07e2a4fc619>\u001b[0m in \u001b[0;36m<module>\u001b[0;34m()\u001b[0m\n\u001b[0;32m----> 1\u001b[0;31m \u001b[0mlen\u001b[0m\u001b[0;34m(\u001b[0m\u001b[0mtext6\u001b[0m\u001b[0;34m.\u001b[0m\u001b[0mwords\u001b[0m\u001b[0;34m(\u001b[0m\u001b[0;34m)\u001b[0m\u001b[0;34m)\u001b[0m\u001b[0;34m\u001b[0m\u001b[0m\n\u001b[0m",
        "\u001b[0;31mAttributeError\u001b[0m: 'Text' object has no attribute 'words'"
       ]
      }
     ],
     "prompt_number": 29
    },
    {
     "cell_type": "code",
     "collapsed": false,
     "input": [
      "type(text6)"
     ],
     "language": "python",
     "metadata": {},
     "outputs": [
      {
       "output_type": "pyout",
       "prompt_number": 32,
       "text": [
        "nltk.text.Text"
       ]
      }
     ],
     "prompt_number": 32
    },
    {
     "cell_type": "code",
     "collapsed": false,
     "input": [
      "type(emma)"
     ],
     "language": "python",
     "metadata": {},
     "outputs": [
      {
       "output_type": "pyout",
       "prompt_number": 33,
       "text": [
        "nltk.corpus.reader.util.StreamBackedCorpusView"
       ]
      }
     ],
     "prompt_number": 33
    },
    {
     "cell_type": "code",
     "collapsed": false,
     "input": [
      "help(nltk.text.Text)"
     ],
     "language": "python",
     "metadata": {},
     "outputs": [
      {
       "output_type": "stream",
       "stream": "stdout",
       "text": [
        "Help on class Text in module nltk.text:\n",
        "\n",
        "class Text(__builtin__.object)\n",
        " |  A wrapper around a sequence of simple (string) tokens, which is\n",
        " |  intended to support initial exploration of texts (via the\n",
        " |  interactive console).  Its methods perform a variety of analyses\n",
        " |  on the text's contexts (e.g., counting, concordancing, collocation\n",
        " |  discovery), and display the results.  If you wish to write a\n",
        " |  program which makes use of these analyses, then you should bypass\n",
        " |  the ``Text`` class, and use the appropriate analysis function or\n",
        " |  class directly instead.\n",
        " |  \n",
        " |  A ``Text`` is typically initialized from a given document or\n",
        " |  corpus.  E.g.:\n",
        " |  \n",
        " |  >>> import nltk.corpus\n",
        " |  >>> from nltk.text import Text\n",
        " |  >>> moby = Text(nltk.corpus.gutenberg.words('melville-moby_dick.txt'))\n",
        " |  \n",
        " |  Methods defined here:\n",
        " |  \n",
        " |  __getitem__(self, i)\n",
        " |  \n",
        " |  __init__(self, tokens, name=None)\n",
        " |      Create a Text object.\n",
        " |      \n",
        " |      :param tokens: The source text.\n",
        " |      :type tokens: sequence of str\n",
        " |  \n",
        " |  __len__(self)\n",
        " |  \n",
        " |  __repr__(self)\n",
        " |      :return: A string representation of this FreqDist.\n",
        " |      :rtype: string\n",
        " |  \n",
        " |  collocations(self, num=20, window_size=2)\n",
        " |      Print collocations derived from the text, ignoring stopwords.\n",
        " |      \n",
        " |      :seealso: find_collocations\n",
        " |      :param num: The maximum number of collocations to print.\n",
        " |      :type num: int\n",
        " |      :param window_size: The number of tokens spanned by a collocation (default=2)\n",
        " |      :type window_size: int\n",
        " |  \n",
        " |  common_contexts(self, words, num=20)\n",
        " |      Find contexts where the specified words appear; list\n",
        " |      most frequent common contexts first.\n",
        " |      \n",
        " |      :param word: The word used to seed the similarity search\n",
        " |      :type word: str\n",
        " |      :param num: The number of words to generate (default=20)\n",
        " |      :type num: int\n",
        " |      :seealso: ContextIndex.common_contexts()\n",
        " |  \n",
        " |  concordance(self, word, width=79, lines=25)\n",
        " |      Print a concordance for ``word`` with the specified context window.\n",
        " |      Word matching is not case-sensitive.\n",
        " |      :seealso: ``ConcordanceIndex``\n",
        " |  \n",
        " |  count(self, word)\n",
        " |      Count the number of times this word appears in the text.\n",
        " |  \n",
        " |  dispersion_plot(self, words)\n",
        " |      Produce a plot showing the distribution of the words through the text.\n",
        " |      Requires pylab to be installed.\n",
        " |      \n",
        " |      :param words: The words to be plotted\n",
        " |      :type word: str\n",
        " |      :seealso: nltk.draw.dispersion_plot()\n",
        " |  \n",
        " |  findall(self, regexp)\n",
        " |      Find instances of the regular expression in the text.\n",
        " |      The text is a list of tokens, and a regexp pattern to match\n",
        " |      a single token must be surrounded by angle brackets.  E.g.\n",
        " |      \n",
        " |      >>> from nltk.book import text1, text5, text9\n",
        " |      >>> text5.findall(\"<.*><.*><bro>\")\n",
        " |      you rule bro; telling you bro; u twizted bro\n",
        " |      >>> text1.findall(\"<a>(<.*>)<man>\")\n",
        " |      monied; nervous; dangerous; white; white; white; pious; queer; good;\n",
        " |      mature; white; Cape; great; wise; wise; butterless; white; fiendish;\n",
        " |      pale; furious; better; certain; complete; dismasted; younger; brave;\n",
        " |      brave; brave; brave\n",
        " |      >>> text9.findall(\"<th.*>{3,}\")\n",
        " |      thread through those; the thought that; that the thing; the thing\n",
        " |      that; that that thing; through these than through; them that the;\n",
        " |      through the thick; them that they; thought that the\n",
        " |      \n",
        " |      :param regexp: A regular expression\n",
        " |      :type regexp: str\n",
        " |  \n",
        " |  generate(self, length=100)\n",
        " |      Print random text, generated using a trigram language model.\n",
        " |      \n",
        " |      :param length: The length of text to generate (default=100)\n",
        " |      :type length: int\n",
        " |      :seealso: NgramModel\n",
        " |  \n",
        " |  index(self, word)\n",
        " |      Find the index of the first occurrence of the word in the text.\n",
        " |  \n",
        " |  plot(self, *args)\n",
        " |      See documentation for FreqDist.plot()\n",
        " |      :seealso: nltk.prob.FreqDist.plot()\n",
        " |  \n",
        " |  readability(self, method)\n",
        " |  \n",
        " |  similar(self, word, num=20)\n",
        " |      Distributional similarity: find other words which appear in the\n",
        " |      same contexts as the specified word; list most similar words first.\n",
        " |      \n",
        " |      :param word: The word used to seed the similarity search\n",
        " |      :type word: str\n",
        " |      :param num: The number of words to generate (default=20)\n",
        " |      :type num: int\n",
        " |      :seealso: ContextIndex.similar_words()\n",
        " |  \n",
        " |  vocab(self)\n",
        " |      :seealso: nltk.prob.FreqDist\n",
        " |  \n",
        " |  ----------------------------------------------------------------------\n",
        " |  Data descriptors defined here:\n",
        " |  \n",
        " |  __dict__\n",
        " |      dictionary for instance variables (if defined)\n",
        " |  \n",
        " |  __weakref__\n",
        " |      list of weak references to the object (if defined)\n",
        "\n"
       ]
      }
     ],
     "prompt_number": 34
    },
    {
     "cell_type": "code",
     "collapsed": false,
     "input": [
      "help(nltk.corpus.gutenberg)"
     ],
     "language": "python",
     "metadata": {},
     "outputs": [
      {
       "output_type": "stream",
       "stream": "stdout",
       "text": [
        "Help on PlaintextCorpusReader in module nltk.corpus.reader.plaintext object:\n",
        "\n",
        "class PlaintextCorpusReader(nltk.corpus.reader.api.CorpusReader)\n",
        " |  Reader for corpora that consist of plaintext documents.  Paragraphs\n",
        " |  are assumed to be split using blank lines.  Sentences and words can\n",
        " |  be tokenized using the default tokenizers, or by custom tokenizers\n",
        " |  specificed as parameters to the constructor.\n",
        " |  \n",
        " |  This corpus reader can be customized (e.g., to skip preface\n",
        " |  sections of specific document formats) by creating a subclass and\n",
        " |  overriding the ``CorpusView`` class variable.\n",
        " |  \n",
        " |  Method resolution order:\n",
        " |      PlaintextCorpusReader\n",
        " |      nltk.corpus.reader.api.CorpusReader\n",
        " |      __builtin__.object\n",
        " |  \n",
        " |  Methods defined here:\n",
        " |  \n",
        " |  __init__(self, root, fileids, word_tokenizer=WordPunctTokenizer(pattern='\\\\w+|[^\\\\w\\\\s]+', gaps=False, discard_empty=True, flags=56), sent_tokenizer=<nltk.tokenize.punkt.PunktSentenceTokenizer object>, para_block_reader=<function read_blankline_block>, encoding=None)\n",
        " |      Construct a new plaintext corpus reader for a set of documents\n",
        " |      located at the given root directory.  Example usage:\n",
        " |      \n",
        " |          >>> root = '/usr/local/share/nltk_data/corpora/webtext/'\n",
        " |          >>> reader = PlaintextCorpusReader(root, '.*\\.txt')\n",
        " |      \n",
        " |      :param root: The root directory for this corpus.\n",
        " |      :param fileids: A list or regexp specifying the fileids in this corpus.\n",
        " |      :param word_tokenizer: Tokenizer for breaking sentences or\n",
        " |          paragraphs into words.\n",
        " |      :param sent_tokenizer: Tokenizer for breaking paragraphs\n",
        " |          into words.\n",
        " |      :param para_block_reader: The block reader used to divide the\n",
        " |          corpus into paragraph blocks.\n",
        " |  \n",
        " |  paras(self, fileids=None, sourced=False)\n",
        " |      :return: the given file(s) as a list of\n",
        " |          paragraphs, each encoded as a list of sentences, which are\n",
        " |          in turn encoded as lists of word strings.\n",
        " |      :rtype: list(list(list(str)))\n",
        " |  \n",
        " |  raw(self, fileids=None, sourced=False)\n",
        " |      :return: the given file(s) as a single string.\n",
        " |      :rtype: str\n",
        " |  \n",
        " |  sents(self, fileids=None, sourced=False)\n",
        " |      :return: the given file(s) as a list of\n",
        " |          sentences or utterances, each encoded as a list of word\n",
        " |          strings.\n",
        " |      :rtype: list(list(str))\n",
        " |  \n",
        " |  words(self, fileids=None, sourced=False)\n",
        " |      :return: the given file(s) as a list of words\n",
        " |          and punctuation symbols.\n",
        " |      :rtype: list(str)\n",
        " |  \n",
        " |  ----------------------------------------------------------------------\n",
        " |  Data and other attributes defined here:\n",
        " |  \n",
        " |  CorpusView = <class 'nltk.corpus.reader.util.StreamBackedCorpusView'>\n",
        " |      A 'view' of a corpus file, which acts like a sequence of tokens:\n",
        " |      it can be accessed by index, iterated over, etc.  However, the\n",
        " |      tokens are only constructed as-needed -- the entire corpus is\n",
        " |      never stored in memory at once.\n",
        " |      \n",
        " |      The constructor to ``StreamBackedCorpusView`` takes two arguments:\n",
        " |      a corpus fileid (specified as a string or as a ``PathPointer``);\n",
        " |      and a block reader.  A \"block reader\" is a function that reads\n",
        " |      zero or more tokens from a stream, and returns them as a list.  A\n",
        " |      very simple example of a block reader is:\n",
        " |      \n",
        " |          >>> def simple_block_reader(stream):\n",
        " |          ...     return stream.readline().split()\n",
        " |      \n",
        " |      This simple block reader reads a single line at a time, and\n",
        " |      returns a single token (consisting of a string) for each\n",
        " |      whitespace-separated substring on the line.\n",
        " |      \n",
        " |      When deciding how to define the block reader for a given\n",
        " |      corpus, careful consideration should be given to the size of\n",
        " |      blocks handled by the block reader.  Smaller block sizes will\n",
        " |      increase the memory requirements of the corpus view's internal\n",
        " |      data structures (by 2 integers per block).  On the other hand,\n",
        " |      larger block sizes may decrease performance for random access to\n",
        " |      the corpus.  (But note that larger block sizes will *not*\n",
        " |      decrease performance for iteration.)\n",
        " |      \n",
        " |      Internally, ``CorpusView`` maintains a partial mapping from token\n",
        " |      index to file position, with one entry per block.  When a token\n",
        " |      with a given index *i* is requested, the ``CorpusView`` constructs\n",
        " |      it as follows:\n",
        " |      \n",
        " |        1. First, it searches the toknum/filepos mapping for the token\n",
        " |           index closest to (but less than or equal to) *i*.\n",
        " |      \n",
        " |        2. Then, starting at the file position corresponding to that\n",
        " |           index, it reads one block at a time using the block reader\n",
        " |           until it reaches the requested token.\n",
        " |      \n",
        " |      The toknum/filepos mapping is created lazily: it is initially\n",
        " |      empty, but every time a new block is read, the block's\n",
        " |      initial token is added to the mapping.  (Thus, the toknum/filepos\n",
        " |      map has one entry per block.)\n",
        " |      \n",
        " |      In order to increase efficiency for random access patterns that\n",
        " |      have high degrees of locality, the corpus view may cache one or\n",
        " |      more blocks.\n",
        " |      \n",
        " |      :note: Each ``CorpusView`` object internally maintains an open file\n",
        " |          object for its underlying corpus file.  This file should be\n",
        " |          automatically closed when the ``CorpusView`` is garbage collected,\n",
        " |          but if you wish to close it manually, use the ``close()``\n",
        " |          method.  If you access a ``CorpusView``'s items after it has been\n",
        " |          closed, the file object will be automatically re-opened.\n",
        " |      \n",
        " |      :warning: If the contents of the file are modified during the\n",
        " |          lifetime of the ``CorpusView``, then the ``CorpusView``'s behavior\n",
        " |          is undefined.\n",
        " |      \n",
        " |      :warning: If a unicode encoding is specified when constructing a\n",
        " |          ``CorpusView``, then the block reader may only call\n",
        " |          ``stream.seek()`` with offsets that have been returned by\n",
        " |          ``stream.tell()``; in particular, calling ``stream.seek()`` with\n",
        " |          relative offsets, or with offsets based on string lengths, may\n",
        " |          lead to incorrect behavior.\n",
        " |      \n",
        " |      :ivar _block_reader: The function used to read\n",
        " |          a single block from the underlying file stream.\n",
        " |      :ivar _toknum: A list containing the token index of each block\n",
        " |          that has been processed.  In particular, ``_toknum[i]`` is the\n",
        " |          token index of the first token in block ``i``.  Together\n",
        " |          with ``_filepos``, this forms a partial mapping between token\n",
        " |          indices and file positions.\n",
        " |      :ivar _filepos: A list containing the file position of each block\n",
        " |          that has been processed.  In particular, ``_toknum[i]`` is the\n",
        " |          file position of the first character in block ``i``.  Together\n",
        " |          with ``_toknum``, this forms a partial mapping between token\n",
        " |          indices and file positions.\n",
        " |      :ivar _stream: The stream used to access the underlying corpus file.\n",
        " |      :ivar _len: The total number of tokens in the corpus, if known;\n",
        " |          or None, if the number of tokens is not yet known.\n",
        " |      :ivar _eofpos: The character position of the last character in the\n",
        " |          file.  This is calculated when the corpus view is initialized,\n",
        " |          and is used to decide when the end of file has been reached.\n",
        " |      :ivar _cache: A cache of the most recently read block.  It\n",
        " |         is encoded as a tuple (start_toknum, end_toknum, tokens), where\n",
        " |         start_toknum is the token index of the first token in the block;\n",
        " |         end_toknum is the token index of the first token not in the\n",
        " |         block; and tokens is a list of the tokens in the block.\n",
        " |  \n",
        " |  ----------------------------------------------------------------------\n",
        " |  Methods inherited from nltk.corpus.reader.api.CorpusReader:\n",
        " |  \n",
        " |  __repr__(self)\n",
        " |  \n",
        " |  abspath(self, fileid)\n",
        " |      Return the absolute path for the given file.\n",
        " |      \n",
        " |      :type file: str\n",
        " |      :param file: The file identifier for the file whose path\n",
        " |          should be returned.\n",
        " |      :rtype: PathPointer\n",
        " |  \n",
        " |  abspaths(self, fileids=None, include_encoding=False, include_fileid=False)\n",
        " |      Return a list of the absolute paths for all fileids in this corpus;\n",
        " |      or for the given list of fileids, if specified.\n",
        " |      \n",
        " |      :type fileids: None or str or list\n",
        " |      :param fileids: Specifies the set of fileids for which paths should\n",
        " |          be returned.  Can be None, for all fileids; a list of\n",
        " |          file identifiers, for a specified set of fileids; or a single\n",
        " |          file identifier, for a single file.  Note that the return\n",
        " |          value is always a list of paths, even if ``fileids`` is a\n",
        " |          single file identifier.\n",
        " |      \n",
        " |      :param include_encoding: If true, then return a list of\n",
        " |          ``(path_pointer, encoding)`` tuples.\n",
        " |      \n",
        " |      :rtype: list(PathPointer)\n",
        " |  \n",
        " |  encoding(self, file)\n",
        " |      Return the unicode encoding for the given corpus file, if known.\n",
        " |      If the encoding is unknown, or if the given file should be\n",
        " |      processed using byte strings (str), then return None.\n",
        " |  \n",
        " |  fileids(self)\n",
        " |      Return a list of file identifiers for the fileids that make up\n",
        " |      this corpus.\n",
        " |  \n",
        " |  open(self, file, sourced=False)\n",
        " |      Return an open stream that can be used to read the given file.\n",
        " |      If the file's encoding is not None, then the stream will\n",
        " |      automatically decode the file's contents into unicode.\n",
        " |      \n",
        " |      :param file: The file identifier of the file to read.\n",
        " |  \n",
        " |  readme(self)\n",
        " |      Return the contents of the corpus README file, if it exists.\n",
        " |  \n",
        " |  ----------------------------------------------------------------------\n",
        " |  Data descriptors inherited from nltk.corpus.reader.api.CorpusReader:\n",
        " |  \n",
        " |  __dict__\n",
        " |      dictionary for instance variables (if defined)\n",
        " |  \n",
        " |  __weakref__\n",
        " |      list of weak references to the object (if defined)\n",
        " |  \n",
        " |  root\n",
        " |      The directory where this corpus is stored.\n",
        " |      \n",
        " |      :type: PathPointer\n",
        "\n"
       ]
      }
     ],
     "prompt_number": 35
    },
    {
     "cell_type": "code",
     "collapsed": false,
     "input": [
      "import nltk.corpus\n",
      "help(nltk.corpus)"
     ],
     "language": "python",
     "metadata": {},
     "outputs": [
      {
       "output_type": "stream",
       "stream": "stdout",
       "text": [
        "Help on package nltk.corpus in nltk:\n",
        "\n",
        "NAME\n",
        "    nltk.corpus\n",
        "\n",
        "FILE\n",
        "    /Library/Python/2.7/site-packages/nltk-2.0.4-py2.7.egg/nltk/corpus/__init__.py\n",
        "\n",
        "DESCRIPTION\n",
        "    NLTK corpus readers.  The modules in this package provide functions\n",
        "    that can be used to read corpus files in a variety of formats.  These\n",
        "    functions can be used to read both the corpus files that are\n",
        "    distributed in the NLTK corpus package, and corpus files that are part\n",
        "    of external corpora.\n",
        "    \n",
        "    Available Corpora\n",
        "    =================\n",
        "    \n",
        "    Please see http://nltk.googlecode.com/svn/trunk/nltk_data/index.xml\n",
        "    for a complete list.  Install corpora using nltk.download().\n",
        "    \n",
        "    Corpus Reader Functions\n",
        "    =======================\n",
        "    Each corpus module defines one or more \"corpus reader functions\",\n",
        "    which can be used to read documents from that corpus.  These functions\n",
        "    take an argument, ``item``, which is used to indicate which document\n",
        "    should be read from the corpus:\n",
        "    \n",
        "    - If ``item`` is one of the unique identifiers listed in the corpus\n",
        "      module's ``items`` variable, then the corresponding document will\n",
        "      be loaded from the NLTK corpus package.\n",
        "    - If ``item`` is a filename, then that file will be read.\n",
        "    \n",
        "    Additionally, corpus reader functions can be given lists of item\n",
        "    names; in which case, they will return a concatenation of the\n",
        "    corresponding documents.\n",
        "    \n",
        "    Corpus reader functions are named based on the type of information\n",
        "    they return.  Some common examples, and their return types, are:\n",
        "    \n",
        "    - words(): list of str\n",
        "    - sents(): list of (list of str)\n",
        "    - paras(): list of (list of (list of str))\n",
        "    - tagged_words(): list of (str,str) tuple\n",
        "    - tagged_sents(): list of (list of (str,str))\n",
        "    - tagged_paras(): list of (list of (list of (str,str)))\n",
        "    - chunked_sents(): list of (Tree w/ (str,str) leaves)\n",
        "    - parsed_sents(): list of (Tree with str leaves)\n",
        "    - parsed_paras(): list of (list of (Tree with str leaves))\n",
        "    - xml(): A single xml ElementTree\n",
        "    - raw(): unprocessed corpus contents\n",
        "    \n",
        "    For example, to read a list of the words in the Brown Corpus, use\n",
        "    ``nltk.corpus.brown.words()``:\n",
        "    \n",
        "        >>> from nltk.corpus import brown\n",
        "        >>> print brown.words()\n",
        "        ['The', 'Fulton', 'County', 'Grand', 'Jury', 'said', ...]\n",
        "\n",
        "PACKAGE CONTENTS\n",
        "    europarl_raw\n",
        "    reader (package)\n",
        "    util\n",
        "\n",
        "FUNCTIONS\n",
        "    demo()\n",
        "\n",
        "DATA\n",
        "    abc = <PlaintextCorpusReader in '/Users/doug/nltk_data/corpora/abc'>\n",
        "    alpino = <AlpinoCorpusReader in '/Users/doug/nltk_data/corpora/alpino'...\n",
        "    brown = <CategorizedTaggedCorpusReader in '/Users/doug/nltk_data/corpo...\n",
        "    cess_cat = <BracketParseCorpusReader in '/Users/doug/nltk_data/corpora...\n",
        "    cess_esp = <BracketParseCorpusReader in '/Users/doug/nltk_data/corpora...\n",
        "    cmudict = <CMUDictCorpusReader in '/Users/doug/nltk_data/corpora/cmudi...\n",
        "    comtrans = <AlignedCorpusReader in '/Users/doug/nltk_data/corpora/comt...\n",
        "    conll2000 = <ConllChunkCorpusReader in '/Users/doug/nltk_data/corpora/...\n",
        "    conll2002 = <ConllChunkCorpusReader in '/Users/doug/nltk_data/corpora/...\n",
        "    conll2007 = <DependencyCorpusReader in '/Users/doug/nltk_data/corpora/...\n",
        "    dependency_treebank = <DependencyCorpusReader in '/Users/doug/nltk_dat...\n",
        "    floresta = <BracketParseCorpusReader in '/Users/doug/nltk_data/corpora...\n",
        "    gazetteers = <WordListCorpusReader in '/Users/doug/nltk_data/corpora/g...\n",
        "    genesis = <PlaintextCorpusReader in '/Users/doug/nltk_data/corpora/gen...\n",
        "    gutenberg = <PlaintextCorpusReader in '/Users/doug/nltk_data/corpora/g...\n",
        "    ieer = <IEERCorpusReader in '/Users/doug/nltk_data/corpora/ieer'>\n",
        "    inaugural = <PlaintextCorpusReader in '/Users/doug/nltk_data/corpora/i...\n",
        "    indian = <IndianCorpusReader in '/Users/doug/nltk_data/corpora/indian'...\n",
        "    ipipan = <IPIPANCorpusReader in '.../corpora/ipipan' (not loaded yet)>\n",
        "    jeita = <ChasenCorpusReader in '/Users/doug/nltk_data/corpora/jeita.zi...\n",
        "    knbc = <KNBCorpusReader in '/Users/doug/nltk_data/corpora/knbc.zip/knb...\n",
        "    lin_thesaurus = <LinThesaurusCorpusReader in '/Users/doug/nltk_data/co...\n",
        "    mac_morpho = <MacMorphoCorpusReader in '/Users/doug/nltk_data/corpora/...\n",
        "    machado = <PortugueseCategorizedPlaintextCorpusReader in '/Users/doug/...\n",
        "    movie_reviews = <CategorizedPlaintextCorpusReader in '/Users/doug/nltk...\n",
        "    names = <WordListCorpusReader in '/Users/doug/nltk_data/corpora/names'...\n",
        "    nombank = <NombankCorpusReader in '/Users/doug/nltk_data/corpora/nomba...\n",
        "    nombank_ptb = <NombankCorpusReader in '/Users/doug/nltk_data/corpora/n...\n",
        "    nps_chat = <NPSChatCorpusReader in '/Users/doug/nltk_data/corpora/nps_...\n",
        "    pl196x = <Pl196xCorpusReader in '/Users/doug/nltk_data/corpora/pl196x'...\n",
        "    ppattach = <PPAttachmentCorpusReader in '/Users/doug/nltk_data/corpora...\n",
        "    propbank = <PropbankCorpusReader in '/Users/doug/nltk_data/corpora/pro...\n",
        "    propbank_ptb = <PropbankCorpusReader in '/Users/doug/nltk_data/corpora...\n",
        "    ptb = <CategorizedBracketParseCorpusReader in '/Users/doug/nltk_data/c...\n",
        "    qc = <StringCategoryCorpusReader in '/Users/doug/nltk_data/corpora/qc'...\n",
        "    reuters = <CategorizedPlaintextCorpusReader in '/Users/doug/nltk_data/...\n",
        "    rte = <RTECorpusReader in '/Users/doug/nltk_data/corpora/rte'>\n",
        "    semcor = <SemcorCorpusReader in '/Users/doug/nltk_data/corpora/semcor....\n",
        "    senseval = <SensevalCorpusReader in '/Users/doug/nltk_data/corpora/sen...\n",
        "    shakespeare = <XMLCorpusReader in '/Users/doug/nltk_data/corpora/shake...\n",
        "    sinica_treebank = <SinicaTreebankCorpusReader in '/Users/doug/nltk_dat...\n",
        "    state_union = <PlaintextCorpusReader in '/Users/doug/nltk_data/corpora...\n",
        "    stopwords = <WordListCorpusReader in '/Users/doug/nltk_data/corpora/st...\n",
        "    swadesh = <SwadeshCorpusReader in '/Users/doug/nltk_data/corpora/swade...\n",
        "    switchboard = <SwitchboardCorpusReader in '/Users/doug/nltk_data/corpo...\n",
        "    timit = <TimitCorpusReader in '/Users/doug/nltk_data/corpora/timit'>\n",
        "    timit_tagged = <TimitTaggedCorpusReader in '/Users/doug/nltk_data/corp...\n",
        "    toolbox = <ToolboxCorpusReader in '/Users/doug/nltk_data/corpora/toolb...\n",
        "    treebank = <BracketParseCorpusReader in '/Users/doug/nltk_data/corpora...\n",
        "    treebank_chunk = <ChunkedCorpusReader in '/Users/doug/nltk_data/corpor...\n",
        "    treebank_raw = <PlaintextCorpusReader in '/Users/doug/nltk_data/corpor...\n",
        "    udhr = <PlaintextCorpusReader in '/Users/doug/nltk_data/corpora/udhr'>\n",
        "    verbnet = <VerbnetCorpusReader in '/Users/doug/nltk_data/corpora/verbn...\n",
        "    webtext = <PlaintextCorpusReader in '/Users/doug/nltk_data/corpora/web...\n",
        "    wordnet = <WordNetCorpusReader in '/Users/doug/nltk_data/corpora/wordn...\n",
        "    wordnet_ic = <WordNetICCorpusReader in '/Users/doug/nltk_data/corpora/...\n",
        "    words = <WordListCorpusReader in '/Users/doug/nltk_data/corpora/words'...\n",
        "    ycoe = <YCOECorpusReader in '.../corpora/ycoe' (not loaded yet)>\n",
        "\n",
        "\n"
       ]
      }
     ],
     "prompt_number": 36
    },
    {
     "cell_type": "code",
     "collapsed": false,
     "input": [],
     "language": "python",
     "metadata": {},
     "outputs": []
    }
   ],
   "metadata": {}
  }
 ]
}