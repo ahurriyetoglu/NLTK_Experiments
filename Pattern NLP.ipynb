{
 "metadata": {
  "name": "Pattern NLP"
 },
 "nbformat": 3,
 "nbformat_minor": 0,
 "worksheets": [
  {
   "cells": [
    {
     "cell_type": "raw",
     "metadata": {},
     "source": [
      "Hacked version, returns full raw status structure as result.raw.   Currently implemented for for twitter search and streams.  Note,  raw data requires parsing by ast.literal_eval()"
     ]
    },
    {
     "cell_type": "raw",
     "metadata": {},
     "source": [
      "Documentation: http://www.clips.ua.ac.be/pages/pattern\n",
      "\n",
      "see also MBSP: http://www.clips.ua.ac.be/pages/MBSP"
     ]
    },
    {
     "cell_type": "code",
     "collapsed": false,
     "input": [
      "import sys\n",
      "import cPickle as pickle\n",
      "import pprint\n",
      "import collections\n",
      "#import nltk\n",
      "#from nltk.stem import WordNetLemmatizer\n",
      "sys.path.append('/Library/Frameworks/Python.framework/Versions/2.7/lib/python2.7/site-packages/')\n",
      "sys.path.append('/Users/doug/SW_Dev/NLTK_Experiments/')\n",
      "\n",
      "import math\n",
      "import numpy as np\n",
      "import time\n",
      "import ast   #used to import json-like structures directly\n",
      "\n",
      "import pattern\n",
      "from pattern.web import Twitter, plaintext"
     ],
     "language": "python",
     "metadata": {},
     "outputs": [],
     "prompt_number": 1
    },
    {
     "cell_type": "raw",
     "metadata": {},
     "source": [
      "Replace Twitter license keys"
     ]
    },
    {
     "cell_type": "code",
     "collapsed": false,
     "input": [
      "import my_twitter_license as my_license    #my twitter oauth tokens stored in user-specific file\n",
      "\n",
      "# save default license and substitute user-specific license\n",
      "old_twitter_license = pattern.web.TWITTER_LICENSE\n",
      "pattern.web.TWITTER_LICENSE = my_license.get_license()"
     ],
     "language": "python",
     "metadata": {},
     "outputs": [],
     "prompt_number": 2
    },
    {
     "cell_type": "code",
     "collapsed": false,
     "input": [
      "#help(pattern.web)\n",
      "#help(Twitter)\n",
      "help(Twitter.__init__)\n",
      "help(Twitter.search)\n",
      "help(Twitter.stream)\n",
      "help(Twitter.trends)"
     ],
     "language": "python",
     "metadata": {},
     "outputs": [
      {
       "output_type": "stream",
       "stream": "stdout",
       "text": [
        "Help on method __init__ in module pattern.web:\n",
        "\n",
        "__init__(self, license=None, throttle=0.5, language=None) unbound pattern.web.Twitter method\n",
        "\n",
        "Help on method search in module pattern.web:\n",
        "\n",
        "search(self, query, type='search', start=1, count=10, sort='relevancy', size=None, cached=False, **kwargs) unbound pattern.web.Twitter method\n",
        "    Returns a list of results from Twitter for the given query.\n",
        "    - type : SEARCH,\n",
        "    - start: Result.id or int,\n",
        "    - count: maximum 100.\n",
        "    There is a limit of 150+ queries per 15 minutes.\n",
        "\n",
        "Help on method stream in module pattern.web:\n",
        "\n",
        "stream(self, query, **kwargs) unbound pattern.web.Twitter method\n",
        "    Returns a live stream of Result objects for the given query.\n",
        "\n",
        "Help on method trends in module pattern.web:\n",
        "\n",
        "trends(self, **kwargs) unbound pattern.web.Twitter method\n",
        "    Returns a list with 10 trending topics on Twitter.\n",
        "\n"
       ]
      }
     ],
     "prompt_number": 3
    },
    {
     "cell_type": "code",
     "collapsed": false,
     "input": [
      "sample = False\n",
      "for tweet in Twitter().search('\"more important than\"', cached=False, count=20, language='en'):\n",
      "    print plaintext(tweet.text)"
     ],
     "language": "python",
     "metadata": {},
     "outputs": [
      {
       "output_type": "stream",
       "stream": "stdout",
       "text": [
        "ain't nothin more important than the Mula.\n",
        "RT @PositiveGuider: What you think about yourself is much more important than what others think about you.\n",
        "RT @HussainKamani: There are things in life that are more important than wealth. What's the point being a millionaire if you have lost ever\u2026\n",
        "RT @HussainKamani: There are things in life that are more important than wealth. What's the point being a millionaire if you have lost ever\u2026\n",
        "RT @zaynmalik: And remember nobody's feelings are more important than your own :/ so take time to love yourself\n",
        "how is anything more important than your own happiness?\n",
        "I'm supposed to be doing my he but fuck it 5sos more important than homework (@5SOS live on http://t.co/F2aFNpwWdz)\n",
        "Ain't nothing more important than the mula\n",
        "RT @silent_musings: Be happy that you aren\u2019t who you were yesterday for you\u2019ve accepted change. Happiness is more important than being stag\u2026\n",
        "Pay attention to what you're hiding, those things are more important than what you're showing #WivesinWaiting\n",
        "RT @1lser: was gonna do some hw but then i remembered breaking bad & dexter are more important than my future.\n",
        "RT @zaynmalik: And remember nobody's feelings are more important than your own :/ so take time to love yourself\n",
        "If I miss out on sleep to talk to you feel important because to me sleep is more important than most people.\n",
        "Most humans are never fully present in the now, because unconsciously they believe that the next moment must be more important than this one\n",
        "There are things in life that are more important than wealth. What's the point being a millionaire if you have lost everything in process?\n",
        "RT @Automaticfoxx_: Ain't nothing more important than the mula !\n",
        "RT @Automaticfoxx_: Ain't nothing more important than the mula !\n",
        "I'm glad to know a guy is more important than your best friend\ud83d\udc4c\n",
        "RT @The_Classy_One: I peep it all.Never slippin'. What ppl do when they think no one's watching is more important than anything they could \u2026\n",
        "Ain't nothing more important than the mula !\n"
       ]
      }
     ],
     "prompt_number": 4
    },
    {
     "cell_type": "code",
     "collapsed": false,
     "input": [
      "sample = False\n",
      "for tweet in Twitter().search('\"more important than\"', cached=False, count=1, language='en'):\n",
      "    print plaintext(tweet.text)\n",
      "    pprint.pprint(ast.literal_eval(tweet.raw))"
     ],
     "language": "python",
     "metadata": {},
     "outputs": [
      {
       "output_type": "stream",
       "stream": "stdout",
       "text": [
        "ain't nothin more important than the Mula.\n",
        "{u'contributors': None,\n",
        " u'coordinates': None,\n",
        " u'created_at': u'Mon Sep 09 03:11:11 +0000 2013',\n",
        " u'entities': {u'hashtags': [],\n",
        "               u'symbols': [],\n",
        "               u'urls': [],\n",
        "               u'user_mentions': []},\n",
        " u'favorite_count': 0,\n",
        " u'favorited': False,\n",
        " u'geo': None,\n",
        " u'id': 376905594911068160,\n",
        " u'id_str': u'376905594911068160',\n",
        " u'in_reply_to_screen_name': None,\n",
        " u'in_reply_to_status_id': None,\n",
        " u'in_reply_to_status_id_str': None,\n",
        " u'in_reply_to_user_id': None,\n",
        " u'in_reply_to_user_id_str': None,\n",
        " u'lang': u'en',\n",
        " u'metadata': {u'iso_language_code': u'en', u'result_type': u'recent'},\n",
        " u'place': None,\n",
        " u'retweet_count': 0,\n",
        " u'retweeted': False,\n",
        " u'source': u'<a href=\"http://twitter.com/download/iphone\" rel=\"nofollow\">Twitter for iPhone</a>',\n",
        " u'text': u\"ain't nothin more important than the Mula.\",\n",
        " u'truncated': False,\n",
        " u'user': {u'contributors_enabled': False,\n",
        "           u'created_at': u'Sun Jan 15 20:01:06 +0000 2012',\n",
        "           u'default_profile': True,\n",
        "           u'default_profile_image': False,\n",
        "           u'description': u'Mentally Strong | #StayHungry | Catcher | Center Fielder | Dream Chaser | #BirdLand | Football | LHB | CB | Herd | 8.10.13 |',\n",
        "           u'entities': {u'description': {u'urls': []}},\n",
        "           u'favourites_count': 223,\n",
        "           u'follow_request_sent': False,\n",
        "           u'followers_count': 97,\n",
        "           u'following': False,\n",
        "           u'friends_count': 90,\n",
        "           u'geo_enabled': False,\n",
        "           u'id': 464946852,\n",
        "           u'id_str': u'464946852',\n",
        "           u'is_translator': False,\n",
        "           u'lang': u'en',\n",
        "           u'listed_count': 0,\n",
        "           u'location': u'',\n",
        "           u'name': u'Hunter Swartz',\n",
        "           u'notifications': False,\n",
        "           u'profile_background_color': u'C0DEED',\n",
        "           u'profile_background_image_url': u'http://a0.twimg.com/images/themes/theme1/bg.png',\n",
        "           u'profile_background_image_url_https': u'https://si0.twimg.com/images/themes/theme1/bg.png',\n",
        "           u'profile_background_tile': False,\n",
        "           u'profile_banner_url': u'https://pbs.twimg.com/profile_banners/464946852/1377366080',\n",
        "           u'profile_image_url': u'http://a0.twimg.com/profile_images/378800000429772663/c511ca802bffcfb002e2ea464b488c97_normal.jpeg',\n",
        "           u'profile_image_url_https': u'https://si0.twimg.com/profile_images/378800000429772663/c511ca802bffcfb002e2ea464b488c97_normal.jpeg',\n",
        "           u'profile_link_color': u'0084B4',\n",
        "           u'profile_sidebar_border_color': u'C0DEED',\n",
        "           u'profile_sidebar_fill_color': u'DDEEF6',\n",
        "           u'profile_text_color': u'333333',\n",
        "           u'profile_use_background_image': True,\n",
        "           u'protected': False,\n",
        "           u'screen_name': u'HunterSwartz_5',\n",
        "           u'statuses_count': 576,\n",
        "           u'time_zone': u'Eastern Time (US & Canada)',\n",
        "           u'url': None,\n",
        "           u'utc_offset': -14400,\n",
        "           u'verified': False}}\n"
       ]
      }
     ],
     "prompt_number": 5
    },
    {
     "cell_type": "code",
     "collapsed": false,
     "input": [
      "\"\"\"\n",
      "print type(sample.json)\n",
      "sample_string = sample.json\n",
      "tweet = ast.literal_eval(sample_string)\n",
      "tweet['text']\n",
      "\"\"\""
     ],
     "language": "python",
     "metadata": {},
     "outputs": [
      {
       "output_type": "pyout",
       "prompt_number": 6,
       "text": [
        "\"\\nprint type(sample.json)\\nsample_string = sample.json\\ntweet = ast.literal_eval(sample_string)\\ntweet['text']\\n\""
       ]
      }
     ],
     "prompt_number": 6
    },
    {
     "cell_type": "code",
     "collapsed": false,
     "input": [
      "for tweet in Twitter().search('\"#RIT\"', cached=False, count=5, language='en'):\n",
      "   print plaintext(tweet.text)"
     ],
     "language": "python",
     "metadata": {},
     "outputs": [
      {
       "output_type": "stream",
       "stream": "stdout",
       "text": [
        "Survived the night but lost some socks. Things are good. #RIT #HvZ\n",
        "@PamelaMusic linda no @noiteadoradores cantou eu to apaixonado \u00e9 a vida pro @marcinhoguita ! Pamela sempre arrasando #Rit #Noiteadoradores\n",
        "@TonCarfi na #RIT . #SKY161\n",
        "Assistindo a Pastora @rachelmalafaia na #RIT Show!! http://t.co/NIDLzfaiSW\n",
        "RT @dieRevaD: #HVZ starts tomorrow...great #RIT\n"
       ]
      }
     ],
     "prompt_number": 7
    },
    {
     "cell_type": "code",
     "collapsed": false,
     "input": [
      "# Search\n",
      "t = Twitter()\n",
      "i = None\n",
      "for j in range(3):\n",
      "    for tweet in t.search('#openstack', start=i, count=2, language='en'):\n",
      "        print tweet.text\n",
      "        print\n",
      "        i = tweet.id"
     ],
     "language": "python",
     "metadata": {},
     "outputs": [
      {
       "output_type": "stream",
       "stream": "stdout",
       "text": [
        "[New blog post] Contributing To #OpenStack Even If You Are Not A Developer http://t.co/pV6DcOPamY\n",
        "\n",
        "A Flurry of Start-Ups Take On EMC and NetApp http://t.co/HnYHmvjj5s via #openstack\n",
        "\n",
        "A Flurry of Start-Ups Take On EMC and NetApp http://t.co/HnYHmvjj5s via #openstack"
       ]
      },
      {
       "output_type": "stream",
       "stream": "stdout",
       "text": [
        "\n",
        "\n",
        "IBM: \"We run @cloudfoundry on dozens of #OpenStack VMs\". Anyone older than 30 feel the same goosebumps as me? #opensourcerule #platformcf\n",
        "\n",
        "IBM: \"We run @cloudfoundry on dozens of #OpenStack VMs\". Anyone older than 30 feel the same goosebumps as me? #opensourcerule #platformcf"
       ]
      },
      {
       "output_type": "stream",
       "stream": "stdout",
       "text": [
        "\n",
        "\n",
        "@GeorgeReese @mnot @acrmp @christo4ferris @sallamar. He said \"Standards are too slow. OSS is the best alternative\" via @acrmp #OpenStack\n",
        "\n"
       ]
      }
     ],
     "prompt_number": 8
    },
    {
     "cell_type": "code",
     "collapsed": false,
     "input": [
      "# streams\n",
      "sample = False\n",
      "s = Twitter().stream('#NFL')\n",
      "for i in range(10):\n",
      "    time.sleep(1) \n",
      "    s.update(bytes=1024)\n",
      "    #print s[-1].text if s else ''\n",
      "    if s:\n",
      "         pprint(ast.literal_eval(s[-1].raw))\n",
      "        \n",
      "s.clear()\n",
      "\n",
      "#print type(sample)\n",
      "#pprint.pprint(sample)"
     ],
     "language": "python",
     "metadata": {},
     "outputs": [
      {
       "ename": "TypeError",
       "evalue": "'module' object is not callable",
       "output_type": "pyerr",
       "traceback": [
        "\u001b[0;31m---------------------------------------------------------------------------\u001b[0m\n\u001b[0;31mTypeError\u001b[0m                                 Traceback (most recent call last)",
        "\u001b[0;32m<ipython-input-9-4361fb63ab90>\u001b[0m in \u001b[0;36m<module>\u001b[0;34m()\u001b[0m\n\u001b[1;32m      7\u001b[0m     \u001b[0;31m#print s[-1].text if s else ''\u001b[0m\u001b[0;34m\u001b[0m\u001b[0;34m\u001b[0m\u001b[0m\n\u001b[1;32m      8\u001b[0m     \u001b[0;32mif\u001b[0m \u001b[0ms\u001b[0m\u001b[0;34m:\u001b[0m\u001b[0;34m\u001b[0m\u001b[0m\n\u001b[0;32m----> 9\u001b[0;31m          \u001b[0mpprint\u001b[0m\u001b[0;34m(\u001b[0m\u001b[0mast\u001b[0m\u001b[0;34m.\u001b[0m\u001b[0mliteral_eval\u001b[0m\u001b[0;34m(\u001b[0m\u001b[0ms\u001b[0m\u001b[0;34m[\u001b[0m\u001b[0;34m-\u001b[0m\u001b[0;36m1\u001b[0m\u001b[0;34m]\u001b[0m\u001b[0;34m.\u001b[0m\u001b[0mraw\u001b[0m\u001b[0;34m)\u001b[0m\u001b[0;34m)\u001b[0m\u001b[0;34m\u001b[0m\u001b[0m\n\u001b[0m\u001b[1;32m     10\u001b[0m \u001b[0;34m\u001b[0m\u001b[0m\n\u001b[1;32m     11\u001b[0m \u001b[0ms\u001b[0m\u001b[0;34m.\u001b[0m\u001b[0mclear\u001b[0m\u001b[0;34m(\u001b[0m\u001b[0;34m)\u001b[0m\u001b[0;34m\u001b[0m\u001b[0m\n",
        "\u001b[0;31mTypeError\u001b[0m: 'module' object is not callable"
       ]
      }
     ],
     "prompt_number": 9
    },
    {
     "cell_type": "code",
     "collapsed": false,
     "input": [
      "# trends\n",
      "print Twitter().trends(cached=False)"
     ],
     "language": "python",
     "metadata": {},
     "outputs": [
      {
       "output_type": "stream",
       "stream": "stdout",
       "text": [
        "[u'#MateusFazendeiro', u'#MeGustaria', u'#ferragui', u'#UnaTangaQueDiga', u'#50FatosSobreMinhaMelhorAmiga', u'Alex Hoyer', u'Happy Ganesh Chaturthi', u'Sad Beautiful Tragic', u'Tyron Smith', u'Demarco Murray']\n"
       ]
      }
     ],
     "prompt_number": 10
    },
    {
     "cell_type": "code",
     "collapsed": false,
     "input": [
      "from pattern.en import parse, pprint\n",
      "s = 'The mobile web is more important than mobile apps.'\n",
      "s = parse(s, relations=True, lemmata=True)\n",
      "pprint(s)"
     ],
     "language": "python",
     "metadata": {},
     "outputs": [
      {
       "output_type": "stream",
       "stream": "stdout",
       "text": [
        "          WORD   TAG    CHUNK    ROLE   ID     PNP    LEMMA       \n",
        "                                                                  \n",
        "           The   DT     NP       SBJ    1      -      the         \n",
        "        mobile   JJ     NP ^     SBJ    1      -      mobile      \n",
        "           web   NN     NP ^     SBJ    1      -      web         \n",
        "            is   VBZ    VP       -      1      -      be          \n",
        "          more   RBR    ADJP     -      -      -      more        \n",
        "     important   JJ     ADJP ^   -      -      -      important   \n",
        "          than   IN     PP       -      -      PNP    than        \n",
        "        mobile   JJ     NP       -      -      PNP    mobile      \n",
        "          apps   NNS    NP ^     -      -      PNP    app         \n",
        "             .   .      -        -      -      -      .           \n"
       ]
      }
     ],
     "prompt_number": 11
    },
    {
     "cell_type": "code",
     "collapsed": false,
     "input": [
      "s = '@RITWSoccer: GAME DAY! RIT vs @RedDragonSports! Kick-off at 1pm at Hartwick. #RIT #GoTigers'\n",
      "s = parse(s, relations=True, lemmata=True)\n",
      "pprint(s)"
     ],
     "language": "python",
     "metadata": {},
     "outputs": [
      {
       "output_type": "stream",
       "stream": "stdout",
       "text": [
        "          WORD   TAG    CHUNK   ROLE   ID     PNP    LEMMA        \n",
        "                                                                  \n",
        "             @   IN     PP      -      -      PNP    @            \n",
        "    RITWSoccer   NNP    NP      -      -      PNP    ritwsoccer   \n",
        "             :   :      -       -      -      -      :            \n",
        "          GAME   NNP    NP      -      -      -      game         \n",
        "           DAY   NNP    NP ^    -      -      -      day          \n",
        "             !   .      -       -      -      -      !            \n",
        "\n",
        "           WORD   TAG    CHUNK   ROLE   ID     PNP    LEMMA             \n",
        "                                                                        \n",
        "            RIT   NNP    NP      -      -      -      rit               \n",
        "             vs   NNP    NP ^    -      -      -      vs                \n",
        "              @   IN     PP      -      -      PNP    @                 \n",
        "RedDragonSports   NNP    NP      -      -      PNP    reddragonsports   \n",
        "              !   .      -       -      -      -      !                 \n",
        "\n",
        "          WORD   TAG    CHUNK   ROLE   ID     PNP    LEMMA      \n",
        "                                                                \n",
        "      Kick-off   NN     NP      -      -      -      kick-off   \n",
        "            at   IN     PP      -      -      -      at         \n",
        "           1pm   CD     -       -      -      -      1pm        \n",
        "            at   IN     PP      -      -      PNP    at         \n",
        "      Hartwick   NNP    NP      -      -      PNP    hartwick   \n",
        "             .   .      -       -      -      -      .          \n",
        "\n",
        "          WORD   TAG    CHUNK   ROLE   ID     PNP    LEMMA      \n",
        "                                                                \n",
        "             #   #      -       -      -      -      #          \n",
        "           RIT   NNP    NP      -      -      -      rit        \n",
        "             #   #      -       -      -      -      #          \n",
        "      GoTigers   NNP    NP      -      -      -      gotigers   \n"
       ]
      }
     ],
     "prompt_number": 12
    },
    {
     "cell_type": "raw",
     "metadata": {},
     "source": [
      "Transformations:  Remove Prefix.  Remove hash tags.  Replace 'vs' with .versus'.  Parse mixed-case expressions. "
     ]
    },
    {
     "cell_type": "code",
     "collapsed": false,
     "input": [
      "s = 'GAME DAY! RIT versus Red Dragon Sports! Kick-off at 1pm at Hartwick.'\n",
      "s = parse(s, relations=True, lemmata=True)\n",
      "pprint(s)"
     ],
     "language": "python",
     "metadata": {},
     "outputs": [
      {
       "output_type": "stream",
       "stream": "stdout",
       "text": [
        "          WORD   TAG    CHUNK   ROLE   ID     PNP    LEMMA   \n",
        "                                                             \n",
        "          GAME   NNP    NP      -      -      -      game    \n",
        "           DAY   NNP    NP ^    -      -      -      day     \n",
        "             !   .      -       -      -      -      !       \n",
        "\n",
        "          WORD   TAG    CHUNK   ROLE   ID     PNP    LEMMA    \n",
        "                                                              \n",
        "           RIT   NNS    NP      -      -      -      rit      \n",
        "        versus   IN     PP      -      -      PNP    versus   \n",
        "           Red   NNP    NP      -      -      PNP    red      \n",
        "        Dragon   NNP    NP ^    -      -      PNP    dragon   \n",
        "        Sports   NNPS   NP ^    -      -      PNP    sports   \n",
        "             !   .      -       -      -      -      !        \n",
        "\n",
        "          WORD   TAG    CHUNK   ROLE   ID     PNP    LEMMA      \n",
        "                                                                \n",
        "      Kick-off   NN     NP      -      -      -      kick-off   \n",
        "            at   IN     PP      -      -      -      at         \n",
        "           1pm   CD     -       -      -      -      1pm        \n",
        "            at   IN     PP      -      -      PNP    at         \n",
        "      Hartwick   NNP    NP      -      -      PNP    hartwick   \n",
        "             .   .      -       -      -      -      .          \n"
       ]
      }
     ],
     "prompt_number": 13
    },
    {
     "cell_type": "code",
     "collapsed": false,
     "input": [
      "# spell out RIT, parse 1pm, substitute starts for kick-off\n",
      "s = 'GAME DAY! Rochester Institute of Technology versus Red Dragon Sports! Starts at 1 pm at Hartwick.'\n",
      "s = parse(s, relations=True, lemmata=True)\n",
      "pprint(s)"
     ],
     "language": "python",
     "metadata": {},
     "outputs": [
      {
       "output_type": "stream",
       "stream": "stdout",
       "text": [
        "          WORD   TAG    CHUNK   ROLE   ID     PNP    LEMMA   \n",
        "                                                             \n",
        "          GAME   NNP    NP      -      -      -      game    \n",
        "           DAY   NNP    NP ^    -      -      -      day     \n",
        "             !   .      -       -      -      -      !       \n",
        "\n",
        "          WORD   TAG    CHUNK   ROLE   ID     PNP    LEMMA        \n",
        "                                                                  \n",
        "     Rochester   NNP    NP      -      -      -      rochester    \n",
        "     Institute   NNP    NP ^    -      -      -      institute    \n",
        "            of   IN     PP      -      -      PNP    of           \n",
        "    Technology   NNP    NP      -      -      PNP    technology   \n",
        "        versus   IN     PP      -      -      PNP    versus       \n",
        "           Red   NNP    NP      -      -      PNP    red          \n",
        "        Dragon   NNP    NP ^    -      -      PNP    dragon       \n",
        "        Sports   NNPS   NP ^    -      -      PNP    sports       \n",
        "             !   .      -       -      -      -      !            \n",
        "\n",
        "          WORD   TAG    CHUNK   ROLE   ID     PNP    LEMMA      \n",
        "                                                                \n",
        "        Starts   VBZ    VP      -      -      -      start      \n",
        "            at   IN     PP      -      -      PNP    at         \n",
        "             1   CD     NP      -      -      PNP    1          \n",
        "            pm   NN     NP ^    -      -      PNP    pm         \n",
        "            at   IN     PP      -      -      PNP    at         \n",
        "      Hartwick   NNP    NP      -      -      PNP    hartwick   \n",
        "             .   .      -       -      -      -      .          \n"
       ]
      }
     ],
     "prompt_number": 14
    },
    {
     "cell_type": "code",
     "collapsed": false,
     "input": [
      "from pattern.en import parse, pprint\n",
      "s = 'The mobile web is more important than mobile apps.'\n",
      "s = parse(s, relations=True, lemmata=True)\n",
      "pprint(s)"
     ],
     "language": "python",
     "metadata": {},
     "outputs": [
      {
       "output_type": "stream",
       "stream": "stdout",
       "text": [
        "          WORD   TAG    CHUNK    ROLE   ID     PNP    LEMMA       \n",
        "                                                                  \n",
        "           The   DT     NP       SBJ    1      -      the         \n",
        "        mobile   JJ     NP ^     SBJ    1      -      mobile      \n",
        "           web   NN     NP ^     SBJ    1      -      web         \n",
        "            is   VBZ    VP       -      1      -      be          \n",
        "          more   RBR    ADJP     -      -      -      more        \n",
        "     important   JJ     ADJP ^   -      -      -      important   \n",
        "          than   IN     PP       -      -      PNP    than        \n",
        "        mobile   JJ     NP       -      -      PNP    mobile      \n",
        "          apps   NNS    NP ^     -      -      PNP    app         \n",
        "             .   .      -        -      -      -      .           \n"
       ]
      }
     ],
     "prompt_number": 15
    },
    {
     "cell_type": "code",
     "collapsed": false,
     "input": [
      "from pattern.en import parsetree\n",
      "s = 'The mobile web is more important than mobile apps.'\n",
      "t = parsetree(s)\n",
      "for sentence in t: \n",
      "    for chunk in sentence.chunks:\n",
      "        for word in chunk.words:\n",
      "            print word,\n",
      "        print"
     ],
     "language": "python",
     "metadata": {},
     "outputs": [
      {
       "output_type": "stream",
       "stream": "stdout",
       "text": [
        "Word(u'The/DT') Word(u'mobile/JJ') Word(u'web/NN')\n",
        "Word(u'is/VBZ')\n",
        "Word(u'more/RBR') Word(u'important/JJ')\n",
        "Word(u'than/IN')\n",
        "Word(u'mobile/JJ') Word(u'apps/NNS')\n"
       ]
      }
     ],
     "prompt_number": 16
    },
    {
     "cell_type": "code",
     "collapsed": false,
     "input": [
      "s = 'GAME DAY! Rochester Institute of Technology versus Red Dragon Sports! Kick-off at 1 pm at Hartwick.'\n",
      "t = parsetree(s)\n",
      "for sentence in t: \n",
      "    print \"Sentence:\"\n",
      "    for chunk in sentence.chunks:\n",
      "        print \"Chunk:\"\n",
      "        for word in chunk.words:\n",
      "            print word,\n",
      "        print"
     ],
     "language": "python",
     "metadata": {},
     "outputs": [
      {
       "output_type": "stream",
       "stream": "stdout",
       "text": [
        "Sentence:\n",
        "Chunk:\n",
        "Word(u'GAME/NNP') Word(u'DAY/NNP')\n",
        "Sentence:\n",
        "Chunk:\n",
        "Word(u'Rochester/NNP') Word(u'Institute/NNP')\n",
        "Chunk:\n",
        "Word(u'of/IN')\n",
        "Chunk:\n",
        "Word(u'Technology/NNP')\n",
        "Chunk:\n",
        "Word(u'versus/IN')\n",
        "Chunk:\n",
        "Word(u'Red/NNP') Word(u'Dragon/NNP') Word(u'Sports/NNPS')\n",
        "Sentence:\n",
        "Chunk:\n",
        "Word(u'Kick-off/NN')\n",
        "Chunk:\n",
        "Word(u'at/IN')\n",
        "Chunk:\n",
        "Word(u'1/CD') Word(u'pm/NN')\n",
        "Chunk:\n",
        "Word(u'at/IN')\n",
        "Chunk:\n",
        "Word(u'Hartwick/NNP')\n"
       ]
      }
     ],
     "prompt_number": 17
    },
    {
     "cell_type": "raw",
     "metadata": {},
     "source": [
      "pattern.en"
     ]
    },
    {
     "cell_type": "code",
     "collapsed": false,
     "input": [
      "from pattern.en import referenced, article\n",
      "from pattern.en import pluralize, singularize\n",
      "from pattern.en import comparative, superlative\n",
      "from pattern.en import conjugate, lemma, lexeme, tenses\n",
      "from pattern.en import spelling"
     ],
     "language": "python",
     "metadata": {},
     "outputs": [],
     "prompt_number": 18
    },
    {
     "cell_type": "code",
     "collapsed": false,
     "input": [
      "# DETERMINER\n",
      "# The article is the most common determiner (DT) in English. It defines \n",
      "# whether the noun following it is definite (the cat) or indefinite (a cat). \n",
      "# The definite article is always the. The indefinite article can be either \n",
      "# a or an \u2013 depending on how the successive noun is pronounced.\n",
      "\n",
      "#determines indefinite article for a word.  The is always the definite article\n",
      "\n",
      "print referenced('university')\n",
      "print referenced('university', article='definite')\n",
      "print article('university')\n",
      "print article('university', function='definite')\n",
      "print referenced('hour')\n",
      "#help(article)\n",
      "#help(referenced)"
     ],
     "language": "python",
     "metadata": {},
     "outputs": [
      {
       "output_type": "stream",
       "stream": "stdout",
       "text": [
        "a university\n",
        "the university\n",
        "a\n",
        "the\n",
        "an hour\n"
       ]
      }
     ],
     "prompt_number": 19
    },
    {
     "cell_type": "code",
     "collapsed": false,
     "input": [
      "# NOUN\n",
      "# The pluralize() function returns the singular form of a plural noun. It \n",
      "# handles 96% of exceptions correctly. The singularize() function returns \n",
      "# the plural form of a singular noun. The pos parameter (part-of-speech)\n",
      "# can be set to NOUN or ADJECTIVE, but only a small number of possessive\n",
      "# adjectives inflect (e.g. my \u2192 our). The custom dictionary is for\n",
      "# user-defined replacements.\n",
      "\n",
      "print pluralize('child')\n",
      "print singularize('wolves')"
     ],
     "language": "python",
     "metadata": {},
     "outputs": [
      {
       "output_type": "stream",
       "stream": "stdout",
       "text": [
        "children\n",
        "wolf\n"
       ]
      }
     ],
     "prompt_number": 20
    },
    {
     "cell_type": "code",
     "collapsed": false,
     "input": [
      "# ADJECTIVE\n",
      "# function give the comparative or superlative form of an adjective. Words\n",
      "# with three or more syllables are simply preceded by more or most.\n",
      "print comparative('bad')\n",
      "print superlative('bad')"
     ],
     "language": "python",
     "metadata": {},
     "outputs": [
      {
       "output_type": "stream",
       "stream": "stdout",
       "text": [
        "worse\n",
        "worst\n"
       ]
      }
     ],
     "prompt_number": 21
    },
    {
     "cell_type": "code",
     "collapsed": false,
     "input": [
      "# VERB conjugation\n",
      "verb = 'ran'\n",
      "print conjugate(verb, \n",
      "    tense = 'present',        # INFINITIVE, PRESENT, PAST, FUTURE\n",
      "   person = 3,              # 1, 2, 3 or None\n",
      "   number = 'sg',       # SG, PL\n",
      "     mood = 'indicative',     # INDICATIVE, IMPERATIVE, CONDITIONAL, SUBJUNCTIVE\n",
      "   aspect = 'imperfective',   # IMPERFECTIVE, PERFECTIVE, PROGRESSIVE \n",
      "  negated = False)\n",
      "print lemma(verb)\n",
      "print lexeme(verb)\n",
      "print tenses(verb)"
     ],
     "language": "python",
     "metadata": {},
     "outputs": [
      {
       "output_type": "stream",
       "stream": "stdout",
       "text": [
        "runs\n",
        "run\n",
        "[u'run', u'runs', u'running', u'ran']\n",
        "[('past', None, None, 'indicative', 'imperfective'), ('past', None, 'plural', 'indicative', 'imperfective'), ('past', 1, 'plural', 'indicative', 'imperfective'), ('past', 1, 'singular', 'indicative', 'imperfective'), ('past', 2, 'plural', 'indicative', 'imperfective'), ('past', 2, 'singular', 'indicative', 'imperfective'), ('past', 3, 'plural', 'indicative', 'imperfective'), ('past', 3, 'singular', 'indicative', 'imperfective')]\n"
       ]
      }
     ],
     "prompt_number": 22
    },
    {
     "cell_type": "code",
     "collapsed": false,
     "input": [
      "#Spelling\n",
      "#help(pattern.en.spelling)\n",
      "pattern.en.spelling.suggest(\"adress\")"
     ],
     "language": "python",
     "metadata": {},
     "outputs": [
      {
       "output_type": "pyout",
       "prompt_number": 23,
       "text": [
        "[('dress', 0.6448598130841121), ('address', 0.35514018691588783)]"
       ]
      }
     ],
     "prompt_number": 23
    },
    {
     "cell_type": "code",
     "collapsed": false,
     "input": [
      "print pattern.en.ngrams(\"I am eating a pizza. But I am almost done.\", n=3)\n",
      "print\n",
      "print pattern.en.ngrams(\"I am eating a pizza. But I am almost done.\", n=3, continuous=True)"
     ],
     "language": "python",
     "metadata": {},
     "outputs": [
      {
       "output_type": "stream",
       "stream": "stdout",
       "text": [
        "[('I', 'am', 'eating'), ('am', 'eating', 'a'), ('eating', 'a', 'pizza'), ('But', 'I', 'am'), ('I', 'am', 'almost'), ('am', 'almost', 'done')]\n",
        "\n",
        "[('I', 'am', 'eating'), ('am', 'eating', 'a'), ('eating', 'a', 'pizza'), ('a', 'pizza', 'But'), ('pizza', 'But', 'I'), ('But', 'I', 'am'), ('I', 'am', 'almost'), ('am', 'almost', 'done')]\n"
       ]
      }
     ],
     "prompt_number": 24
    },
    {
     "cell_type": "code",
     "collapsed": false,
     "input": [
      "from pattern.en import parse\n",
      "print parse('I eat pizza with a fork.')\n",
      "print\n",
      "print parse('I eat pizza with a fork.', relations=True)\n",
      "print\n",
      "print parse('I ate pizza with a fork.', lemmata=True)\n",
      "\n",
      "# POS:   (NN, JJ, ...)\n",
      "# chunk: (NP, VP, PNP, ...)\n",
      "# PNP  prepositional noun phrase\n",
      "# Relat: (SBJ, OBJ, ...)\n",
      "\n",
      "# Word   /PoS  /chunk   /PNP   Relations (\n",
      "#\n",
      "# I     /PRP   /B-NP    /O     NP-SBJ-1\n",
      "# eat   /VBP   /B-VP    /O     VP-1\n",
      "# pizza /VBG   /I-VP    /O     VP-1\n",
      "#\n",
      "# with  /IN    /B-PP   /B-PNP  O \n",
      "#\n",
      "# a     /DT    /B-NP   /I-PNP  O\n",
      "# fork  /NN    /I-NP   /I-PN   O \n",
      "#\n",
      "# .     /.     /O      /O      O"
     ],
     "language": "python",
     "metadata": {},
     "outputs": [
      {
       "output_type": "stream",
       "stream": "stdout",
       "text": [
        "I/PRP/B-NP/O eat/VBP/B-VP/O pizza/VBG/I-VP/O with/IN/B-PP/B-PNP a/DT/B-NP/I-PNP fork/NN/I-NP/I-PNP ././O/O\n",
        "\n",
        "I/PRP/B-NP/O/NP-SBJ-1 eat/VBP/B-VP/O/VP-1 pizza/VBG/I-VP/O/VP-1 with/IN/B-PP/B-PNP/O a/DT/B-NP/I-PNP/O fork/NN/I-NP/I-PNP/O ././O/O/O\n",
        "\n",
        "I/PRP/B-NP/O/i ate/VBD/B-VP/O/eat pizza/NN/B-NP/O/pizza with/IN/B-PP/B-PNP/with a/DT/B-NP/I-PNP/a fork/NN/I-NP/I-PNP/fork ././O/O/.\n"
       ]
      }
     ],
     "prompt_number": 25
    },
    {
     "cell_type": "code",
     "collapsed": false,
     "input": [
      "for tweet in Twitter().search('\"#RIT\"', cached=False, count=2, language='en'):\n",
      "   print plaintext(tweet.text)\n",
      "   pprint(parse(plaintext(tweet.text), relations=True, lemmata=True))\n",
      "   print"
     ],
     "language": "python",
     "metadata": {},
     "outputs": [
      {
       "output_type": "stream",
       "stream": "stdout",
       "text": [
        "Survived the night but lost some socks. Things are good. #RIT #HvZ\n",
        "          WORD   TAG    CHUNK   ROLE   ID     PNP    LEMMA     \n",
        "                                                               \n",
        "      Survived   VBD    VP      -      1      -      survive   \n",
        "           the   DT     NP      OBJ    1      -      the       \n",
        "         night   NN     NP ^    OBJ    1      -      night     \n",
        "           but   CC     -       -      -      -      but       \n",
        "          lost   VBD    VP      -      2      -      lose      \n",
        "          some   DT     NP      OBJ    2      -      some      \n",
        "         socks   NNS    NP ^    OBJ    2      -      sock      \n",
        "             .   .      -       -      -      -      .         \n",
        "\n",
        "          WORD   TAG    CHUNK   ROLE   ID     PNP    LEMMA   \n",
        "                                                             \n",
        "        Things   NNS    NP      SBJ    1      -      thing   \n",
        "           are   VBP    VP      -      1      -      be      \n",
        "          good   JJ     ADJP    -      -      -      good    \n",
        "             .   .      -       -      -      -      .       \n",
        "\n",
        "          WORD   TAG    CHUNK   ROLE   ID     PNP    LEMMA   \n",
        "                                                             \n",
        "             #   #      -       -      -      -      #       \n",
        "           RIT   NNP    NP      -      -      -      rit     \n",
        "             #   #      -       -      -      -      #       \n",
        "           HvZ   NNP    NP      -      -      -      hvz     \n",
        "\n",
        "@PamelaMusic linda no @noiteadoradores cantou eu to apaixonado \u00e9 a vida pro @marcinhoguita ! Pamela sempre arrasando #Rit #Noiteadoradores\n",
        "           WORD   TAG    CHUNK   ROLE   ID     PNP    LEMMA            \n",
        "                                                                       \n",
        "              @   IN     PP      -      -      PNP    @                \n",
        "    PamelaMusic   NNP    NP      SBJ    1      PNP    pamelamusic      \n",
        "          linda   VBG    VP      -      1      PNP    linda            \n",
        "             no   DT     NP      OBJ    1      PNP    no               \n",
        "              @   NN     NP ^    OBJ    1      PNP    @                \n",
        "noiteadoradores   NNS    NP ^    OBJ    1      PNP    noiteadoradore   \n",
        "         cantou   VBP    VP      -      2      -      cantou           \n",
        "             eu   VBG    VP ^    -      2      -      eu               \n",
        "             to   TO     PP      -      -      -      to               \n",
        "     apaixonado   VB     VP      -      3      -      apaixonado       \n",
        "              \u00e9   VBG    VP ^    -      3      -      \u00e9                \n",
        "              a   DT     NP      OBJ    3      -      a                \n",
        "           vida   NN     NP ^    OBJ    3      -      vida             \n",
        "            pro   FW     -       -      -      -      pro              \n",
        "              @   IN     PP      -      -      PNP    @                \n",
        "  marcinhoguita   NN     NP      -      -      PNP    marcinhoguita    \n",
        "              !   .      -       -      -      -      !                \n",
        "\n",
        "           WORD   TAG    CHUNK   ROLE   ID     PNP    LEMMA             \n",
        "                                                                        \n",
        "         Pamela   NN     NP      -      -      -      pamela            \n",
        "         sempre   NN     NP ^    -      -      -      sempre            \n",
        "      arrasando   NN     NP ^    -      -      -      arrasando         \n",
        "              #   #      -       -      -      -      #                 \n",
        "            Rit   NNP    NP      -      -      -      rit               \n",
        "              #   #      -       -      -      -      #                 \n",
        "Noiteadoradores   NNP    NP      -      -      -      noiteadoradores   \n",
        "\n"
       ]
      }
     ],
     "prompt_number": 26
    },
    {
     "cell_type": "code",
     "collapsed": false,
     "input": [
      "from pattern.en import sentiment, polarity, subjectivity, positive\n",
      "s = \"The movie attempts to be surreal by incorporating various time paradoxes, but it's presented in such a ridiculous way it's seriously boring.\"\n",
      "print sentiment(s)\n",
      "print polarity(s)\n",
      "print subjectivity(s)\n",
      "print positive(s)"
     ],
     "language": "python",
     "metadata": {},
     "outputs": [
      {
       "output_type": "stream",
       "stream": "stdout",
       "text": [
        "(-0.4166666666666667, 0.2)\n",
        "-0.416666666667\n",
        "0.2\n",
        "False\n"
       ]
      }
     ],
     "prompt_number": 27
    },
    {
     "cell_type": "code",
     "collapsed": false,
     "input": [
      "from pattern.en import Sentence, parse, modality, mood, negated\n",
      "s = \"Some amino acids tend to be acidic while others may be basic.\" # weaseling\n",
      "s = Sentence(parse(s, chunks=False, lemmata=True))\n",
      "print modality(s)   # >0.5 is factural\n",
      "print mood(s)\n",
      "print negated(s)\n",
      "print\n",
      "s = \"The movie attempts to be surreal by incorporating various time paradoxes, but it's presented in such a ridiculous way it's seriously boring.\"\n",
      "s = Sentence(parse(s, chunks=False, lemmata=True))\n",
      "print modality(s)   # >0.5 is factural\n",
      "print mood(s)\n",
      "print negated(s)"
     ],
     "language": "python",
     "metadata": {},
     "outputs": [
      {
       "output_type": "stream",
       "stream": "stdout",
       "text": [
        "0.111111111111\n",
        "indicative\n",
        "False\n",
        "\n",
        "-1.0\n",
        "indicative\n",
        "False\n"
       ]
      }
     ],
     "prompt_number": 28
    },
    {
     "cell_type": "code",
     "collapsed": false,
     "input": [],
     "language": "python",
     "metadata": {},
     "outputs": []
    }
   ],
   "metadata": {}
  }
 ]
}