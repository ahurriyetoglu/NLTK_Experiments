{
 "metadata": {
  "name": "example WordNet lookup"
 },
 "nbformat": 3,
 "nbformat_minor": 0,
 "worksheets": [
  {
   "cells": [
    {
     "cell_type": "code",
     "collapsed": false,
     "input": [
      "import nltk\n",
      "from nltk.corpus import wordnet"
     ],
     "language": "python",
     "metadata": {},
     "outputs": [],
     "prompt_number": 2
    },
    {
     "cell_type": "code",
     "collapsed": false,
     "input": [
      "wordnet.synsets( 'to' )"
     ],
     "language": "python",
     "metadata": {},
     "outputs": [
      {
       "output_type": "pyout",
       "prompt_number": 11,
       "text": [
        "[]"
       ]
      }
     ],
     "prompt_number": 11
    },
    {
     "cell_type": "code",
     "collapsed": false,
     "input": [
      "synsets = wordnet.synsets( 'to' )\n",
      " \n",
      "# Print the information\n",
      "for synset in synsets:\n",
      "  print \"-\" * 10\n",
      "  print \"Name:\", synset.name\n",
      "  print \"Lexical Type:\", synset.lexname\n",
      "  print \"Lemmas:\", synset.lemma_names\n",
      "  print \"Definition:\", synset.definition\n",
      "  for example in synset.examples:\n",
      "    print \"Example:\", example"
     ],
     "language": "python",
     "metadata": {},
     "outputs": [],
     "prompt_number": 10
    },
    {
     "cell_type": "code",
     "collapsed": false,
     "input": [],
     "language": "python",
     "metadata": {},
     "outputs": []
    }
   ],
   "metadata": {}
  }
 ]
}