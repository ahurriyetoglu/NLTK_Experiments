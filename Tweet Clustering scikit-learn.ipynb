{
 "metadata": {
  "name": "Tweet Clustering scikit-learn"
 },
 "nbformat": 3,
 "nbformat_minor": 0,
 "worksheets": [
  {
   "cells": [
    {
     "cell_type": "raw",
     "metadata": {},
     "source": [
      "This is a refactoring of TweetClustering using scikit-learn\n",
      "Steps:\n",
      "1) Simple substitution of Solver.  Focus on DictVectorizer\n",
      "2) Extend solver to use Tfid\n",
      "3) Support family of solvers\n",
      "4) Change feature extraction to more naturally use Dict"
     ]
    },
    {
     "cell_type": "code",
     "collapsed": false,
     "input": [
      "import sys\n",
      "import cPickle as pickle\n",
      "import pprint\n",
      "import collections\n",
      "#import nltk\n",
      "#from nltk.stem import WordNetLemmatizer\n",
      "sys.path.append('/Library/Frameworks/Python.framework/Versions/2.7/lib/python2.7/site-packages/')\n",
      "sys.path.append('/Users/doug/SW_Dev/NLTK_Experiments/')\n",
      "\n",
      "from sklearn.feature_extraction import DictVectorizer\n",
      "from sklearn.feature_extraction.text import TfidfTransformer\n",
      "from sklearn.cluster import KMeans, MiniBatchKMeans\n",
      "from sklearn import metrics\n",
      "from sklearn.metrics import pairwise_distances\n",
      "import math\n",
      "\n",
      "#import cmu_tweet_word_clusters\n",
      "import my_feature_ex as fx"
     ],
     "language": "python",
     "metadata": {},
     "outputs": [
      {
       "output_type": "stream",
       "stream": "stdout",
       "text": [
        "skipped:  111010100010\t\t212\n",
        "\n"
       ]
      }
     ],
     "prompt_number": 1
    },
    {
     "cell_type": "raw",
     "metadata": {},
     "source": [
      "Tweet Clustering using scikit-learn library"
     ]
    },
    {
     "cell_type": "code",
     "collapsed": false,
     "input": [
      "def tokens2dict (tokens):\n",
      "    \"\"\"used to convert features to DictVectorizer compatible format\"\"\"\n",
      "    result = {}\n",
      "    for t in tokens:\n",
      "            result[t]=True\n",
      "    return result"
     ],
     "language": "python",
     "metadata": {},
     "outputs": [],
     "prompt_number": 2
    },
    {
     "cell_type": "code",
     "collapsed": false,
     "input": [
      "def gen_feature_matrix(tweets,tfidf=False):\n",
      "    \"\"\"Converts set of tweets with tokenized values into deature matrix\"\"\"\n",
      "    \n",
      "    vectorizer = DictVectorizer()\n",
      "    feat_matrix = vectorizer.fit_transform([tokens2dict(tweet['tokens']) for tweet in tweets])\n",
      "    #print feat_matrix.toarray()\n",
      "    #print vectorizer.get_feature_names()\n",
      "    \n",
      "    if tfidf:\n",
      "        feat_matrix = TfidfTransformer().fit_transform(feat_matrix).toarray()\n",
      "        \n",
      "    return feat_matrix, vectorizer.get_feature_names()"
     ],
     "language": "python",
     "metadata": {},
     "outputs": [],
     "prompt_number": 3
    },
    {
     "cell_type": "code",
     "collapsed": false,
     "input": [
      "def clusterize_matrix(feat_matrix,batch=False,k=False):\n",
      "    if not k:\n",
      "        k = matrix.shape[0]/2\n",
      "    if batch:\n",
      "        km = MiniBatchKMeans(n_clusters=k, init='k-means++', init_size=3*k,verbose=False)\n",
      "    else:\n",
      "        km = KMeans(n_clusters=k, init='k-means++', max_iter=100, n_init=1,\n",
      "                    verbose=False)\n",
      "        \n",
      "    km.fit(feat_matrix)\n",
      "    groupings = km.labels_ \n",
      "    sil_score = metrics.silhouette_score(feat_matrix, groupings, metric='euclidean')\n",
      "    \n",
      "    #print 'score: {}'.format(sil_score)\n",
      "    return groupings, sil_score"
     ],
     "language": "python",
     "metadata": {},
     "outputs": [],
     "prompt_number": 4
    },
    {
     "cell_type": "code",
     "collapsed": false,
     "input": [
      "def display_clusters(tweets,feat_matrix, groupings,report=True,annotate_prefix=\"\",quality=False,threshold=0):\n",
      "\n",
      "    groups = collections.defaultdict(list)\n",
      "    for tweet_idx, cluster in enumerate(groupings):\n",
      "        groups[cluster].append(tweet_idx)\n",
      "    \n",
      "    if quality:\n",
      "        samples = metrics.silhouette_samples(feat_matrix, groupings)\n",
      "   \n",
      "    skipped = 0\n",
      "    clust_cnt = 0\n",
      "    for cluster in groups.values():\n",
      "        if len(cluster) == 1:\n",
      "            skipped += 1\n",
      "        else:\n",
      "            clust_cnt += 1\n",
      "            if annotate_prefix:\n",
      "                for doc_id in cluster:\n",
      "                    tweet_set[doc_id]['composite'].append('{}_{}'.format(annotate_prefix, clust_cnt))\n",
      "            elif report:\n",
      "                print \"=========\"\n",
      "                for doc_id in cluster:\n",
      "                    if quality:\n",
      "                        if samples[doc_id] > threshold:\n",
      "                            print \"{:3.2f} -> \".format(samples[doc_id]),tweet_set[doc_id][\"text\"]\n",
      "                    else:\n",
      "                        print \"-> \",tweet_set[doc_id][\"text\"]\n",
      "            \n",
      "    print \"clusters: {} skipped {} ({}%) tweets our of {} total tweets\".format(clust_cnt, skipped, 100.0*skipped/len(tweets),len(tweets), )\n",
      "    return {'clusters':clust_cnt, 'skipped':skipped, 'total':len(tweets)}"
     ],
     "language": "python",
     "metadata": {},
     "outputs": [],
     "prompt_number": 5
    },
    {
     "cell_type": "code",
     "collapsed": false,
     "input": [
      "def scan_k(feat_matrix,batch, incr, kmin, kmax):\n",
      "        \n",
      "    kmax = min(kmax, feat_matrix.shape[0])\n",
      "    kmin = max(kmin, 8)\n",
      "   \n",
      "    k = kmax\n",
      "    max_score = -1\n",
      "    max_score_k = 0\n",
      "    #coarse scan\n",
      "    while k > kmin :\n",
      "        #print k\n",
      "        print('.'),\n",
      "        groupings, sil_score = clusterize_matrix(feat_matrix,k=k,batch=batch)\n",
      "        #print sil_score\n",
      "        if sil_score > max_score:\n",
      "                max_score = sil_score\n",
      "                max_score_k = k\n",
      "        k = int(k/incr)\n",
      "    print    \n",
      "    return max_score_k"
     ],
     "language": "python",
     "metadata": {},
     "outputs": [],
     "prompt_number": 6
    },
    {
     "cell_type": "code",
     "collapsed": false,
     "input": [
      "def find_best_k(feat_matrix,batch=False, kmin=False, kmax=False, incr=False, refine=False):\n",
      "    sqrt2 = math.sqrt(2.)\n",
      "\n",
      "    if not incr:\n",
      "        incr = math.sqrt(2.)\n",
      "    if not kmax:\n",
      "        kmax = feat_matrix.shape[0]\n",
      "    if not kmin:\n",
      "        kmin = 8\n",
      "        \n",
      "    print(\"Initial Scan for k \"),\n",
      "    max_score_k = scan_k(feat_matrix,batch, incr, kmin, kmax)\n",
      " \n",
      "    if refine:\n",
      "        print(\"Refinement phase \"),\n",
      "    \n",
      "        incr2 =  math.sqrt(math.sqrt(incr))\n",
      "        min_k = int(max_score_k / incr)\n",
      "        max_k = int(max_score_k * incr)\n",
      "\n",
      "        max_score_k = scan_k(feat_matrix,batch, incr2, min_k, max_k)\n",
      "     \n",
      "    print \"k=\",max_score_k\n",
      "    return max_score_k"
     ],
     "language": "python",
     "metadata": {},
     "outputs": [],
     "prompt_number": 7
    },
    {
     "cell_type": "code",
     "collapsed": false,
     "input": [
      "# use k=\"auto\" for automatic discover of optimal k value\n",
      "\n",
      "def perform_tweet_clustering(tweets,tfidf=False,batch=False,k=False,refine=True,report=True,annotate_prefix=\"\",quality=True,threshold=0):\n",
      "\n",
      "    feat_matrix, fnames = gen_feature_matrix(tweets,tfidf=tfidf)\n",
      "    if k == \"auto\":\n",
      "        k = find_best_k(feat_matrix, refine=refine, batch=batch)\n",
      "    groupings, sil_score = clusterize_matrix(feat_matrix,k=k,batch=batch)\n",
      "    result = display_clusters(tweets,feat_matrix, groupings,report=True,annotate_prefix=\"\",quality=quality,threshold=0)\n",
      "    result['sil_score'] = sil_score\n",
      "    return result"
     ],
     "language": "python",
     "metadata": {},
     "outputs": [],
     "prompt_number": 8
    },
    {
     "cell_type": "code",
     "collapsed": false,
     "input": [
      "# load previously tokenized/clasified  tweet Corpus\n",
      "pinput = open('ucla_tweets.pkl', 'rb')\n",
      "UCLA_tweets = pickle.load(pinput)\n",
      "pinput.close()"
     ],
     "language": "python",
     "metadata": {},
     "outputs": [],
     "prompt_number": 9
    },
    {
     "cell_type": "code",
     "collapsed": false,
     "input": [
      "#select subset of tweets for experimentation\n",
      "\n",
      "MAX_TWEETS = 1000   #subset Corpus for now to improve Clustering run time\n",
      "tweet_set = [{'text':t['text'], 'pos':t['pos'], 'raw_tokens':t['tokens']} for t in UCLA_tweets.values()[0:MAX_TWEETS]]\n",
      "\n",
      "#sample tweet\n",
      "#pprint.pprint(tweet_set[0])"
     ],
     "language": "python",
     "metadata": {},
     "outputs": [],
     "prompt_number": 10
    },
    {
     "cell_type": "code",
     "collapsed": false,
     "input": [
      "#test code, delete later\n",
      "fx.reset_features(tweet_set)\n",
      "fx.extract_tokens(tweet_set)\n",
      "print \"token extracton done\"\n",
      "#matrix, fnames = gen_feature_matrix(tweet_set)\n",
      "#print \"matrix size: \",matrix.shape[0]\n",
      "perform_tweet_clustering(tweet_set,k='auto',quality=True,batch=False, tfidf=False)\n",
      "#k = find_best_k(matrix, refine=True, batch=True)\n",
      "#print k"
     ],
     "language": "python",
     "metadata": {},
     "outputs": [
      {
       "output_type": "stream",
       "stream": "stdout",
       "text": [
        "token extracton done\n",
        "Initial Scan for k  . "
       ]
      },
      {
       "output_type": "stream",
       "stream": "stdout",
       "text": [
        ". "
       ]
      },
      {
       "output_type": "stream",
       "stream": "stdout",
       "text": [
        ". "
       ]
      },
      {
       "output_type": "stream",
       "stream": "stdout",
       "text": [
        ". "
       ]
      },
      {
       "output_type": "stream",
       "stream": "stdout",
       "text": [
        ". "
       ]
      },
      {
       "output_type": "stream",
       "stream": "stdout",
       "text": [
        ". "
       ]
      },
      {
       "output_type": "stream",
       "stream": "stdout",
       "text": [
        ". "
       ]
      },
      {
       "output_type": "stream",
       "stream": "stdout",
       "text": [
        ". "
       ]
      },
      {
       "output_type": "stream",
       "stream": "stdout",
       "text": [
        ". "
       ]
      },
      {
       "output_type": "stream",
       "stream": "stdout",
       "text": [
        ". "
       ]
      },
      {
       "output_type": "stream",
       "stream": "stdout",
       "text": [
        ". "
       ]
      },
      {
       "output_type": "stream",
       "stream": "stdout",
       "text": [
        ". "
       ]
      },
      {
       "output_type": "stream",
       "stream": "stdout",
       "text": [
        ". "
       ]
      },
      {
       "output_type": "stream",
       "stream": "stdout",
       "text": [
        ".\n"
       ]
      },
      {
       "output_type": "stream",
       "stream": "stdout",
       "text": [
        "Refinement phase  . "
       ]
      },
      {
       "output_type": "stream",
       "stream": "stdout",
       "text": [
        ". "
       ]
      },
      {
       "output_type": "stream",
       "stream": "stdout",
       "text": [
        ". "
       ]
      },
      {
       "output_type": "stream",
       "stream": "stdout",
       "text": [
        ". "
       ]
      },
      {
       "output_type": "stream",
       "stream": "stdout",
       "text": [
        ". "
       ]
      },
      {
       "output_type": "stream",
       "stream": "stdout",
       "text": [
        ". "
       ]
      },
      {
       "output_type": "stream",
       "stream": "stdout",
       "text": [
        ". "
       ]
      },
      {
       "output_type": "stream",
       "stream": "stdout",
       "text": [
        ".\n"
       ]
      },
      {
       "output_type": "stream",
       "stream": "stdout",
       "text": [
        "k= 916\n",
        "========="
       ]
      },
      {
       "output_type": "stream",
       "stream": "stdout",
       "text": [
        "\n",
        "1.00 ->  And then there was the UCLA professor who opened up his vest, pulled out his tie and wet his pants.\n",
        "1.00 ->  And then there was the UCLA professor who opened up his vest, pulled out his tie and wet his pants.\n",
        "1.00 ->  And then there was the UCLA professor who opened up his vest, pulled out his tie and wet his pants.\n",
        "1.00 ->  And then there was the UCLA professor who opened up his vest, pulled out his tie and wet his pants.\n",
        "1.00 ->  And then there was the UCLA professor who opened up his vest, pulled out his tie and wet his pants.\n",
        "=========\n",
        "1.00 ->  Former UCLA star's dad under house arrest: A federal magistrate in Las Vegas has ordered the father of former ... http://t.co/zNoEQruY49\n",
        "1.00 ->  Former UCLA star's dad under house arrest: A federal magistrate in Las Vegas has ordered the father of former ... http://t.co/GW7XOdtEBB\n",
        "=========\n",
        "1.00 ->  Dad: Can you tell me what time the USC v. UCLA game is at? I have to start negotiating with your mom now to get the TV at that time.\n",
        "1.00 ->  Dad: Can you tell me what time the USC v. UCLA game is at? I have to start negotiating with your mom now to get the TV at that time.\n",
        "=========\n",
        "1.00 ->  Former UCLA star's dad under house arrest http://t.co/6t8wNhcVP0\n",
        "1.00 ->  Former UCLA star's dad under house arrest http://t.co/A4wHFmIAQu\n",
        "1.00 ->  Former UCLA star's dad under house arrest http://t.co/ZMokhq4UIC\n",
        "1.00 ->  Former UCLA star's dad under house arrest http://t.co/XCh8pXX7fz\n",
        "1.00 ->  Former UCLA star's dad under house arrest http://t.co/zIc7qyxKmq\n",
        "1.00 ->  Former UCLA star's dad under house arrest http://t.co/c2YC0mVUGE\n",
        "1.00 ->  Former UCLA star's dad under house arrest http://t.co/WbtqSRpFQT\n",
        "=========\n",
        "0.91 ->  Irish DT recruit Vanderdoes going to UCLA http://t.co/oQLOdAbB7w\n",
        "0.91 ->  Irish DT recruit Vanderdoes going to UCLA http://t.co/iy6foO61Ni\n",
        "0.91 ->  Irish DT recruit Vanderdoes going to UCLA http://t.co/j0ygwAnQtB\n",
        "0.91 ->  Irish DT recruit Vanderdoes going to UCLA http://t.co/7JmW3Ffb3W\n",
        "0.91 ->  Irish DT recruit Vanderdoes going to UCLA http://t.co/w1xXu10rEu\n",
        "0.59 ->  Irish DT recruit Vanderdoes going to UCLA http://t.co/f88u1C5tTL #briankellyisajerk\n",
        "=========\n",
        "1.00 ->  UCLA Film Fest Honors Affleck, Di Bonaventura: UCLA School of Theater, Film and Television\u2019s 22nd annual film ... http://t.co/F88o0pABGB\n",
        "1.00 ->  UCLA Film Fest Honors Affleck, Di Bonaventura: UCLA School of Theater, Film and Television\u2019s 22nd annual film ... http://t.co/4ggcI6N4uY\n",
        "=========\n",
        "1.00 ->  BREAKING: Top recruit Eddie Vanderdoes leaving #Notre Dame, will attend #UCLA: http://t.co/mXAgnEbY5n\n",
        "1.00 ->  BREAKING: Top recruit Eddie Vanderdoes leaving #Notre Dame, will attend #UCLA: http://t.co/9fHzon2cD8\n",
        "=========\n",
        "=========\n",
        "0.56 ->  Photoset: Jensen at UCLA Spring Sing [x] http://t.co/4Ld9yN4vPZ\n",
        "0.38 ->  Photoset: Jensen Ackles - UCLA Spring Sing 2013 [x] http://t.co/fzmsQPPhsH\n",
        "0.39 ->  Photoset: iamsupernaturalsbitch: Jensen at UCLA Spring Sing [x] http://t.co/Isg1VFS6Nx\n",
        "0.38 ->  Photoset: Jensen Ackles - UCLA Spring Sing 2013 http://t.co/KtmeDHGpiY\n",
        "0.56 ->  Photoset: Jensen at UCLA Spring Sing [x] http://t.co/QJEcoJytru\n",
        "=========\n",
        "1.00 ->  Ex-UCLA star's dad charged in scam:  http://t.co/DUmLSYYMx8\n",
        "1.00 ->  Ex-UCLA star's dad charged in scam:  http://t.co/QQ2zOTagi9\n",
        "1.00 ->  Ex-UCLA star's dad charged in scam:  http://t.co/6amyo0i56W\n",
        "=========\n",
        "1.00 ->  #thedreamisnow @ UCLA James Bridges Theater http://t.co/NNMfe7HQgZ\n",
        "1.00 ->  #thedreamisnow @ UCLA James Bridges Theater http://t.co/g7meYKxA4a\n",
        "1.00 ->  #thedreamisnow @ UCLA James Bridges Theater http://t.co/ESCN4QG8gC\n",
        "=========\n",
        "0.86 ->  Former UCLA star's dad under house arrest: A federal magistrate on Friday ordered the father of former UCLA ba... http://t.co/T2YsT1RGT1\n",
        "0.42 ->  Former UCLA star's dad under house arrest: A federal magistrate on Friday ordered the father of former UCLA... http://t.co/fZuiUmJUSg\n",
        "0.86 ->  Former UCLA star's dad under house arrest: A federal magistrate on Friday ordered the father of former UCLA ba... http://t.co/iG5wKXAccB\n",
        "0.86 ->  Former UCLA star's dad under house arrest: A federal magistrate on Friday ordered the father of former UCLA ba... http://t.co/YsGQ0vjEhu\n",
        "0.86 ->  Former UCLA star's dad under house arrest: A federal magistrate on Friday ordered the father of former UCLA ba... http://t.co/aY6nEvAMwF\n",
        "0.86 ->  Former UCLA star's dad under house arrest: A federal magistrate on Friday ordered the father of former UCLA ba... http://t.co/JSgkKwfIOD\n",
        "=========\n",
        "1.00 ->  Justine Bateman, 47, Goes Back to School as a Freshman at UCLA! http://t.co/Zik4shr8p2\n",
        "1.00 ->  Justine Bateman, 47, Goes Back to School as a Freshman at UCLA!:  http://t.co/Ty3jn1xClJ\n",
        "1.00 ->  http://t.co/5WMQ9XZVaw Justine Bateman, 47, Goes Back to School as a Freshman at UCLA!http://t.co/5WMQ9XZVaw\n",
        "1.00 ->  Justine Bateman, 47, Goes Back to School as a Freshman at UCLA!:  http://t.co/K56s44C9sk\n",
        "=========\n",
        "0.59 ->  UCLA Surgeons Live Vine Brain Surgery http://t.co/tV2XFDMMVj\n",
        "0.62 ->  UCLA Surgeons Live Vine Brain Surgery http://t.co/yp5PxDX4Wo #socialmedia\n",
        "=========\n",
        "0.68 ->  Changing gut bacteria through diet affects brain function, UCLA study shows http://t.co/GqdTn7hU0s #neuroscience\n",
        "0.92 ->  Changing gut bacteria through diet affects brain function, UCLA study shows. http://t.co/yGgJF3dOUt\n",
        "0.92 ->  Changing gut bacteria through diet affects brain function, UCLA study shows http://t.co/o8qq0mxDir\n",
        "0.92 ->  Changing gut bacteria through diet affects brain function, UCLA study shows http://t.co/sBAVmG5ITc\n",
        "0.92 ->  Changing gut bacteria through diet affects brain function, UCLA study shows http://t.co/enbweEWEz9\n",
        "=========\n",
        "1.00 ->  Ethan Telfair, former Oklahoma commit Jacob Hammond &amp; Cameron Walker visited UCLA on Monday.\n",
        "1.00 ->  Ethan Telfair, former Oklahoma commit Jacob Hammond &amp; Cameron Walker visited UCLA on Monday\n",
        "=========\n",
        "1.00 ->  #chillin at the #fari #apparel #booth #ucla #jazz #reggae #festival #losangeles #california #stjohn\u2026 http://t.co/LOqzEzdmVu\n",
        "1.00 ->  #chillin at the #fari #apparel #booth #ucla #jazz #reggae #festival #losangeles #california #stjohn\u2026 http://t.co/kpTRj1nzlb\n",
        "=========\n",
        "1.00 ->  Sugar Might Affect The Brain, UCLA Rat Study Reveals http://t.co/Y60WHGlI6M via @healthyliving #FitFluential\n",
        "1.00 ->  Sugar Might Affect The Brain, UCLA Rat Study Reveals http://t.co/xAzmoQqGAK via @healthyliving #FitFluential\n",
        "=========\n",
        "1.00 ->  Why MBA: UCLA Anderson to starting men's skincare company in North America: Let me begin by asking you, why a ... http://t.co/jBZ7d7J1FN\n",
        "1.00 ->  Why MBA: UCLA Anderson to starting men's skincare company in North America: Let me begin by asking you, why a ... http://t.co/p7wcaxuSYd\n",
        "=========\n",
        "0.42 ->  #UCLA: Eddie Vanderdoes Will Be Well Worth the Wait for UCLA Bruins http://t.co/hOmTVE9mPl\n",
        "0.50 ->  Eddie Vanderdoes Will Be Well Worth the Wait for UCLA Bruins http://t.co/q3Vbfp05rC\n",
        "=========\n",
        "0.82 ->  UCLA Anderson Forecast paints dismal picture of economic recovery http://t.co/E1VvGZJYRm\n",
        "0.82 ->  UCLA Anderson Forecast paints dismal picture of economic recovery http://t.co/Sw1oEm0zZ5\n",
        "0.82 ->  UCLA Anderson Forecast paints dismal picture of economic recovery http://t.co/8xy0pgLonb\n",
        "0.82 ->  UCLA Anderson Forecast paints dismal picture of economic recovery http://t.co/HHa8O2sjtY\n",
        "0.42 ->  UCLA Anderson Forecast paints dismal picture of economic recovery http://t.co/3MFhQGx8c7 $macro\n",
        "=========\n",
        "1.00 ->  UCLA engineers will study the stability of Watts Towers http://t.co/I5E02MrDjg\n",
        " #architecture\n",
        "1.00 ->  UCLA engineers will study the stability of Watts Towers http://t.co/I5E02MrDjg\n",
        " #architecture\n",
        "=========\n",
        "1.00 ->  UCLA football: Bruins announce kickoff times for three games http://t.co/HmCt3PpkEN\n",
        "1.00 ->  UCLA football: Bruins announce kickoff times for three games http://t.co/6i4ueElcKL\n",
        "1.00 ->  UCLA football: Bruins announce kickoff times for three games http://t.co/iiEGbrchYU\n",
        "1.00 ->  UCLA football: Bruins announce kickoff times for three games http://t.co/Rixw3XsOFJ\n",
        "1.00 ->  UCLA football: Bruins announce kickoff times for three games http://t.co/PrpfKs6hBY\n",
        "=========\n",
        "1.00 ->  Dominick Jackson \u2013 Elite Offensive Lineman \u2013 Commits to UCLA http://t.co/Kg3x2dJ4YF\n",
        "1.00 ->  Dominick Jackson \u2013 Elite Offensive Lineman \u2013 Commits to UCLA http://t.co/L2dY5OCtMV\n",
        "=========\n",
        "0.27 ->  Assign girls everywhere, UCLA\n",
        "0.76 ->  Asian girls everywhere, UCLA\n",
        "0.76 ->  ASIAN GIRLS EVERYWHERE UCLA.\n",
        "0.76 ->  Asian Girls everywhere.... UCLA! \ud83d\ude06\n",
        "0.76 ->  Asian girls everywhere, UCLA\n",
        "0.76 ->  Asian girls everywhere UCLA\n",
        "0.76 ->  Asian girls everywhere, UCLA\n",
        "0.36 ->  Asian girls everywhere. Ucla. @JeremyBorjas\n",
        "=========\n",
        "1.00 ->  OMG USC killed UCLA!\n",
        "1.00 ->  OMG USC killed UCLA!\n",
        "1.00 ->  OMG USC killed UCLA!\n",
        "=========\n",
        "1.00 ->  Irish DT recruit Vanderdoes going to UCLA: Incoming Notre Dame freshman defensive lineman Eddie Vanderdoes wil... http://t.co/L8qWAoKVby\n",
        "1.00 ->  Irish DT recruit Vanderdoes going to UCLA: Incoming Notre Dame freshman defensive lineman Eddie Vanderdoes wil... http://t.co/Ycb62Cph1h\n",
        "=========\n",
        "0.62 ->  Father of former UCLA basketball star indicted http://t.co/MJJdjsBqCN #temecula\n",
        "0.59 ->  Father of former UCLA basketball star indicted http://t.co/yMYLuchxFw\n",
        "=========\n",
        "0.18 ->  I think I do wanna go to UCLA ..\n",
        "0.18 ->  I wanna go UCLA or Princeton\n",
        "0.18 ->  i really wanna go to ucla !!!!!\n",
        "=========\n",
        "=========\n",
        "0.18 ->  Diaporama : Jensen Ackles - UCLA Spring Sing 2013 [x] http://t.co/gUG4LawQLH\n",
        "0.09 ->  Jensen Ackles at UCLA Spring Sing 2013! Gorgeous as always!&lt;3 http://t.co/FCSEHg7iX4\n",
        "0.08 ->  Jensen Ackles - UCLA Spring Sing 2013 http://t.co/d2nGR4ibdY\n",
        "=========\n",
        "0.42 ->  Its official RT @UCLACoachMora: UCLA welcomes DL Eddie Vanderdoes of  Placer HS to the Bruin Family. #8Clap #BruinRevolution\n",
        "0.29 ->  RT @UCLACoachMora: UCLA welcomes DL Eddie Vanderdoes of  Placer HS to the Bruin Family. #8Clap #BruinRevolution\n",
        "clusters: 32 skipped 884 (88.4%) tweets our of 1000 total tweets\n"
       ]
      },
      {
       "output_type": "pyout",
       "prompt_number": 12,
       "text": [
        "{'clusters': 32,\n",
        " 'sil_score': 0.081476517249560218,\n",
        " 'skipped': 884,\n",
        " 'total': 1000}"
       ]
      }
     ],
     "prompt_number": 12
    },
    {
     "cell_type": "raw",
     "metadata": {},
     "source": [
      "Feature extraction routines:\n",
      "- extract_tokens()            -- simple set of tokens, ignoring stop words and non-word tokens\n",
      "- extract_lemmatize_tokens()  -- extends above using lemmatized tokens in place of actual tokens\n",
      "- extract_bigrams()           -- bigrams of simple tokens using above filtering rules\n",
      "- extract_lemmatize_bigrams() -- extends above using lemmatized tokens in place of actual tokens"
     ]
    },
    {
     "cell_type": "raw",
     "metadata": {},
     "source": [
      "Compare clustering results for various feature extraction approaches"
     ]
    },
    {
     "cell_type": "code",
     "collapsed": false,
     "input": [
      "fx.reset_features(tweet_set)\n",
      "fx.extract_tokens(tweet_set)\n",
      "#perform_tweet_clustering(tweet_set)"
     ],
     "language": "python",
     "metadata": {},
     "outputs": [],
     "prompt_number": 8
    },
    {
     "cell_type": "code",
     "collapsed": false,
     "input": [
      "#fx.reset_features(tweet_set)\n",
      "#fx.extract_lemmatize_tokens(tweet_set)\n",
      "#perform_tweet_clustering(tweet_set, report=True, batch=False, tfidf=True, quality=True)"
     ],
     "language": "python",
     "metadata": {},
     "outputs": [],
     "prompt_number": 1
    },
    {
     "cell_type": "code",
     "collapsed": false,
     "input": [
      "fx.reset_features(tweet_set)\n",
      "fx.extract_bigrams(tweet_set)\n",
      "#perform_tweet_clustering(tweet_set)"
     ],
     "language": "python",
     "metadata": {},
     "outputs": [],
     "prompt_number": "*"
    },
    {
     "cell_type": "code",
     "collapsed": false,
     "input": [
      "fx.reset_features(tweet_set)\n",
      "fx.extract_lemmatize_bigrams(tweet_set)\n",
      "#perform_tweet_clustering(tweet_set)"
     ],
     "language": "python",
     "metadata": {},
     "outputs": [],
     "prompt_number": "*"
    },
    {
     "cell_type": "code",
     "collapsed": false,
     "input": [
      "#try combining multiple types of features\n",
      "fx.reset_features(tweet_set)\n",
      "fx.extract_lemmatize_tokens(tweet_set)\n",
      "fx.extract_lemmatize_bigrams(tweet_set)\n",
      "#perform_tweet_clustering(tweet_set)"
     ],
     "language": "python",
     "metadata": {},
     "outputs": [],
     "prompt_number": "*"
    },
    {
     "cell_type": "code",
     "collapsed": false,
     "input": [
      "#try combining multiple types of features\n",
      "fx.reset_features(tweet_set)\n",
      "fx.extract_group_tokens(tweet_set)\n",
      "fx.extract_group_bigrams(tweet_set)\n",
      "#perform_tweet_clustering(tweet_set)"
     ],
     "language": "python",
     "metadata": {},
     "outputs": [],
     "prompt_number": "*"
    },
    {
     "cell_type": "code",
     "collapsed": false,
     "input": [
      "fx.reset_features(tweet_set)\n",
      "#fx.extract_tokens(tweet_set, filter='hashtag', exclude=['ucla', '#ucla'])\n",
      "fx.extract_tokens(tweet_set, filter='noun', exclude=['ucla', '#ucla'])\n",
      "fx.extract_bigrams(tweet_set)\n",
      "fx.extract_lemmatize_bigrams(tweet_set)\n",
      "perform_tweet_clustering(tweet_set, k='auto', tfidf=False)"
     ],
     "language": "python",
     "metadata": {},
     "outputs": [
      {
       "output_type": "stream",
       "stream": "stdout",
       "text": [
        "Initial Scan for k  . "
       ]
      },
      {
       "output_type": "stream",
       "stream": "stdout",
       "text": [
        ". "
       ]
      },
      {
       "output_type": "stream",
       "stream": "stdout",
       "text": [
        ". "
       ]
      },
      {
       "output_type": "stream",
       "stream": "stdout",
       "text": [
        ". "
       ]
      },
      {
       "output_type": "stream",
       "stream": "stdout",
       "text": [
        ". "
       ]
      },
      {
       "output_type": "stream",
       "stream": "stdout",
       "text": [
        ". "
       ]
      },
      {
       "output_type": "stream",
       "stream": "stdout",
       "text": [
        ". "
       ]
      },
      {
       "output_type": "stream",
       "stream": "stdout",
       "text": [
        ". "
       ]
      },
      {
       "output_type": "stream",
       "stream": "stdout",
       "text": [
        ". "
       ]
      },
      {
       "output_type": "stream",
       "stream": "stdout",
       "text": [
        ". "
       ]
      },
      {
       "output_type": "stream",
       "stream": "stdout",
       "text": [
        ". "
       ]
      },
      {
       "output_type": "stream",
       "stream": "stdout",
       "text": [
        ". "
       ]
      },
      {
       "output_type": "stream",
       "stream": "stdout",
       "text": [
        ". "
       ]
      },
      {
       "output_type": "stream",
       "stream": "stdout",
       "text": [
        ".\n"
       ]
      },
      {
       "output_type": "stream",
       "stream": "stdout",
       "text": [
        "Refinement phase  . "
       ]
      },
      {
       "output_type": "stream",
       "stream": "stdout",
       "text": [
        ". "
       ]
      },
      {
       "output_type": "stream",
       "stream": "stdout",
       "text": [
        ". "
       ]
      },
      {
       "output_type": "stream",
       "stream": "stdout",
       "text": [
        ".\n"
       ]
      },
      {
       "output_type": "stream",
       "stream": "stdout",
       "text": [
        "k= 1000\n",
        "========="
       ]
      },
      {
       "output_type": "stream",
       "stream": "stdout",
       "text": [
        "\n",
        "1.00 ->  UCLA football: Bruins announce kickoff times for three games http://t.co/HmCt3PpkEN\n",
        "1.00 ->  UCLA football: Bruins announce kickoff times for three games http://t.co/6i4ueElcKL\n",
        "1.00 ->  UCLA football: Bruins announce kickoff times for three games http://t.co/iiEGbrchYU\n",
        "1.00 ->  UCLA football: Bruins announce kickoff times for three games http://t.co/Rixw3XsOFJ\n",
        "1.00 ->  UCLA football: Bruins announce kickoff times for three games http://t.co/PrpfKs6hBY\n",
        "=========\n",
        "1.00 ->  Former UCLA star's dad under house arrest: A federal magistrate on Friday ordered the father of former UCLA ba... http://t.co/T2YsT1RGT1\n",
        "1.00 ->  Former UCLA star's dad under house arrest: A federal magistrate on Friday ordered the father of former UCLA... http://t.co/fZuiUmJUSg\n",
        "1.00 ->  Former UCLA star's dad under house arrest: A federal magistrate on Friday ordered the father of former UCLA ba... http://t.co/iG5wKXAccB\n",
        "1.00 ->  Former UCLA star's dad under house arrest: A federal magistrate on Friday ordered the father of former UCLA ba... http://t.co/YsGQ0vjEhu\n",
        "1.00 ->  Former UCLA star's dad under house arrest: A federal magistrate on Friday ordered the father of former UCLA ba... http://t.co/aY6nEvAMwF\n",
        "1.00 ->  Former UCLA star's dad under house arrest: A federal magistrate on Friday ordered the father of former UCLA ba... http://t.co/JSgkKwfIOD\n",
        "=========\n",
        "1.00 ->  Irish DT recruit Vanderdoes going to UCLA: Incoming Notre Dame freshman defensive lineman Eddie Vanderdoes wil... http://t.co/L8qWAoKVby\n",
        "1.00 ->  Irish DT recruit Vanderdoes going to UCLA: Incoming Notre Dame freshman defensive lineman Eddie Vanderdoes wil... http://t.co/Ycb62Cph1h\n",
        "=========\n",
        "1.00 ->  Photoset: Jensen Ackles - UCLA Spring Sing 2013 [x] http://t.co/fzmsQPPhsH\n",
        "1.00 ->  Photoset: Jensen Ackles - UCLA Spring Sing 2013 http://t.co/KtmeDHGpiY\n",
        "=========\n",
        "1.00 ->  Irish DT recruit Vanderdoes going to UCLA http://t.co/oQLOdAbB7w\n",
        "1.00 ->  Irish DT recruit Vanderdoes going to UCLA http://t.co/iy6foO61Ni\n",
        "1.00 ->  Irish DT recruit Vanderdoes going to UCLA http://t.co/j0ygwAnQtB\n",
        "1.00 ->  Irish DT recruit Vanderdoes going to UCLA http://t.co/7JmW3Ffb3W\n",
        "1.00 ->  Irish DT recruit Vanderdoes going to UCLA http://t.co/w1xXu10rEu\n",
        "1.00 ->  Irish DT recruit Vanderdoes going to UCLA http://t.co/f88u1C5tTL #briankellyisajerk\n",
        "=========\n",
        "1.00 ->  Former UCLA star's dad under house arrest: @ESPN http://t.co/Id2kdv7GFo #NBA\n",
        "1.00 ->  Former UCLA star's dad under house arrest http://t.co/6t8wNhcVP0\n",
        "1.00 ->  Former UCLA star's dad under house arrest http://t.co/A4wHFmIAQu\n",
        "1.00 ->  Former UCLA star's dad under house arrest http://t.co/ZMokhq4UIC\n",
        "1.00 ->  Former UCLA star's dad under house arrest http://t.co/XCh8pXX7fz\n",
        "1.00 ->  Former UCLA star's dad under house arrest http://t.co/zIc7qyxKmq\n",
        "1.00 ->  Former UCLA star's dad under house arrest http://t.co/c2YC0mVUGE\n",
        "1.00 ->  Former UCLA star's dad under house arrest http://t.co/WbtqSRpFQT\n",
        "=========\n",
        "1.00 ->  UCLA Film Fest Honors Affleck, Di Bonaventura: UCLA School of Theater, Film and Television\u2019s 22nd annual film ... http://t.co/F88o0pABGB\n",
        "1.00 ->  UCLA Film Fest Honors Affleck, Di Bonaventura: UCLA School of Theater, Film and Television\u2019s 22nd annual film ... http://t.co/4ggcI6N4uY\n",
        "=========\n",
        "1.00 ->  ASIAN GIRLS EVERYWHERE UCLA.\n",
        "1.00 ->  Asian girls everywhere UCLA\n",
        "=========\n",
        "1.00 ->  Changing gut bacteria through diet affects brain function, UCLA study shows http://t.co/GqdTn7hU0s #neuroscience\n",
        "1.00 ->  Changing gut bacteria through diet affects brain function, UCLA study shows. http://t.co/yGgJF3dOUt\n",
        "1.00 ->  Changing gut bacteria through diet affects brain function, UCLA study shows http://t.co/o8qq0mxDir\n",
        "1.00 ->  Changing gut bacteria through diet affects brain function, UCLA study shows http://t.co/sBAVmG5ITc\n",
        "1.00 ->  Changing gut bacteria through diet affects brain function, UCLA study shows http://t.co/enbweEWEz9\n",
        "=========\n",
        "1.00 ->  UCLA Surgeons Live Vine Brain Surgery http://t.co/tV2XFDMMVj\n",
        "1.00 ->  UCLA Surgeons Live Vine Brain Surgery http://t.co/yp5PxDX4Wo #socialmedia\n",
        "=========\n",
        "1.00 ->  Well there you go. RT @UCLACoachMora: UCLA welcomes DL Eddie Vanderdoes of  Placer HS to the Bruin Family. #8Clap #BruinRevolution\n",
        "1.00 ->  RT @UCLACoachMora: UCLA welcomes DL Eddie Vanderdoes of  Placer HS to the Bruin Family. #8Clap #BruinRevolution\n",
        "=========\n",
        "1.00 ->  Ex-UCLA star's dad charged in scam:  http://t.co/DUmLSYYMx8\n",
        "1.00 ->  Ex-UCLA star's dad charged in scam:  http://t.co/QQ2zOTagi9\n",
        "1.00 ->  Ex-UCLA star's dad charged in scam:  http://t.co/6amyo0i56W\n",
        "=========\n",
        "1.00 ->  BREAKING: Top recruit Eddie Vanderdoes leaving #Notre Dame, will attend #UCLA: http://t.co/mXAgnEbY5n\n",
        "1.00 ->  BREAKING: Top recruit Eddie Vanderdoes leaving #Notre Dame, will attend #UCLA: http://t.co/9fHzon2cD8\n",
        "=========\n",
        "1.00 ->  Why MBA: UCLA Anderson to starting men's skincare company in North America: Let me begin by asking you, why a ... http://t.co/jBZ7d7J1FN\n",
        "1.00 ->  Why MBA: UCLA Anderson to starting men's skincare company in North America: Let me begin by asking you, why a ... http://t.co/p7wcaxuSYd\n",
        "=========\n",
        "1.00 ->  Dad: Can you tell me what time the USC v. UCLA game is at? I have to start negotiating with your mom now to get the TV at that time.\n",
        "1.00 ->  Dad: Can you tell me what time the USC v. UCLA game is at? I have to start negotiating with your mom now to get the TV at that time.\n",
        "=========\n",
        "1.00 ->  Wow...  http://t.co/KSdjcPFfWT\n",
        "1.00 ->  It had to be Ucla\n",
        "1.00 ->  So cool! #Ucla http://t.co/eLZC4kC3mo\n",
        "1.00 ->  UCLA IS FLOODING \ud83d\ude29 https://t.co/URGDWqlQJh\n",
        "1.00 ->  I used to want to go to Ucla\n",
        "1.00 ->  Amazing. http://t.co/qwXKXbEmFR\n",
        "1.00 ->  take me back to UCLA\n",
        "1.00 ->  UCLA... Lets do this!\n",
        "1.00 ->  Can it get any worse for #UCLA? @BillWalton\n",
        "1.00 ->  @karissalin are you going to apply to UCLA?\n",
        "1.00 ->  @RatchetsLuvMatt but now he's at UCLA\n",
        "1.00 ->  I know who UCLA is lol \u2014 who? http://t.co/sPb1SBWSb6\n",
        "=========\n",
        "1.00 ->  #thedreamisnow @ UCLA James Bridges Theater http://t.co/NNMfe7HQgZ\n",
        "1.00 ->  #thedreamisnow @ UCLA James Bridges Theater http://t.co/g7meYKxA4a\n",
        "1.00 ->  #thedreamisnow @ UCLA James Bridges Theater http://t.co/ESCN4QG8gC\n",
        "=========\n",
        "1.00 ->  Justine Bateman, 47, Goes Back to School as a Freshman at UCLA! http://t.co/Zik4shr8p2\n",
        "1.00 ->  Justine Bateman, 47, Goes Back to School as a Freshman at UCLA!:  http://t.co/Ty3jn1xClJ\n",
        "1.00 ->  http://t.co/5WMQ9XZVaw Justine Bateman, 47, Goes Back to School as a Freshman at UCLA!http://t.co/5WMQ9XZVaw\n",
        "1.00 ->  Justine Bateman, 47, Goes Back to School as a Freshman at UCLA!:  http://t.co/K56s44C9sk\n",
        "=========\n",
        "1.00 ->  And then there was the UCLA professor who opened up his vest, pulled out his tie and wet his pants.\n",
        "1.00 ->  And then there was the UCLA professor who opened up his vest, pulled out his tie and wet his pants.\n",
        "1.00 ->  And then there was the UCLA professor who opened up his vest, pulled out his tie and wet his pants.\n",
        "1.00 ->  And then there was the UCLA professor who opened up his vest, pulled out his tie and wet his pants.\n",
        "1.00 ->  And then there was the UCLA professor who opened up his vest, pulled out his tie and wet his pants.\n",
        "=========\n",
        "1.00 ->  #chillin at the #fari #apparel #booth #ucla #jazz #reggae #festival #losangeles #california #stjohn\u2026 http://t.co/LOqzEzdmVu\n",
        "1.00 ->  #chillin at the #fari #apparel #booth #ucla #jazz #reggae #festival #losangeles #california #stjohn\u2026 http://t.co/kpTRj1nzlb\n",
        "=========\n",
        "1.00 ->  Father of former UCLA basketball star indicted http://t.co/MJJdjsBqCN #temecula\n",
        "1.00 ->  Father of former UCLA basketball star indicted http://t.co/yMYLuchxFw\n",
        "=========\n",
        "1.00 ->  Ethan Telfair, former Oklahoma commit Jacob Hammond &amp; Cameron Walker visited UCLA on Monday.\n",
        "1.00 ->  Ethan Telfair, former Oklahoma commit Jacob Hammond &amp; Cameron Walker visited UCLA on Monday\n",
        "=========\n",
        "1.00 ->  #UCLA: Eddie Vanderdoes Will Be Well Worth the Wait for UCLA Bruins http://t.co/hOmTVE9mPl\n",
        "1.00 ->  Eddie Vanderdoes Will Be Well Worth the Wait for UCLA Bruins http://t.co/q3Vbfp05rC\n",
        "=========\n",
        "1.00 ->  Dominick Jackson \u2013 Elite Offensive Lineman \u2013 Commits to UCLA http://t.co/Kg3x2dJ4YF\n",
        "1.00 ->  Dominick Jackson \u2013 Elite Offensive Lineman \u2013 Commits to UCLA http://t.co/L2dY5OCtMV\n",
        "=========\n",
        "1.00 ->  Sugar Might Affect The Brain, UCLA Rat Study Reveals http://t.co/Y60WHGlI6M via @healthyliving #FitFluential\n",
        "1.00 ->  Sugar Might Affect The Brain, UCLA Rat Study Reveals http://t.co/xAzmoQqGAK via @healthyliving #FitFluential\n",
        "=========\n",
        "1.00 ->  UCLA engineers will study the stability of Watts Towers http://t.co/I5E02MrDjg\n",
        " #architecture\n",
        "1.00 ->  UCLA engineers will study the stability of Watts Towers http://t.co/I5E02MrDjg\n",
        " #architecture\n",
        "=========\n",
        "1.00 ->  Former UCLA star's dad under house arrest: A federal magistrate in Las Vegas has ordered the father of former ... http://t.co/zNoEQruY49\n",
        "1.00 ->  Former UCLA star's dad under house arrest: A federal magistrate in Las Vegas has ordered the father of former ... http://t.co/GW7XOdtEBB\n",
        "=========\n",
        "1.00 ->  OMG USC killed UCLA!\n",
        "1.00 ->  OMG USC killed UCLA!\n",
        "1.00 ->  OMG USC killed UCLA!\n",
        "=========\n",
        "1.00 ->  Asian girls everywhere, UCLA\n",
        "1.00 ->  Asian Girls everywhere.... UCLA! \ud83d\ude06\n",
        "1.00 ->  Asian girls everywhere, UCLA\n",
        "1.00 ->  Asian girls everywhere, UCLA\n",
        "1.00 ->  Asian girls everywhere ! #UCLA\n",
        "1.00 ->  Asian girls everywhere. Ucla. @JeremyBorjas\n",
        "=========\n",
        "1.00 ->  Photoset: Jensen at UCLA Spring Sing [x] http://t.co/4Ld9yN4vPZ\n",
        "1.00 ->  Photoset: Jensen at UCLA Spring Sing [x] http://t.co/QJEcoJytru\n",
        "=========\n",
        "1.00 ->  UCLA Anderson Forecast paints dismal picture of economic recovery http://t.co/E1VvGZJYRm\n",
        "1.00 ->  UCLA Anderson Forecast paints dismal picture of economic recovery http://t.co/Sw1oEm0zZ5\n",
        "1.00 ->  UCLA Anderson Forecast paints dismal picture of economic recovery http://t.co/8xy0pgLonb\n",
        "1.00 ->  UCLA Anderson Forecast paints dismal picture of economic recovery http://t.co/HHa8O2sjtY\n",
        "=========\n",
        "1.00 ->  Jensen Ackles at UCLA Spring Sing 2013! Gorgeous as always!&lt;3 http://t.co/FCSEHg7iX4\n",
        "1.00 ->  Jensen Ackles - UCLA Spring Sing 2013 http://t.co/d2nGR4ibdY\n",
        "=========\n",
        "1.00 ->  Do you go to UCLA?? \u2014 Starting in the fall.  http://t.co/wu4bqDAtUY\n",
        "1.00 ->  @UrsBuffayNY No. I am just introducing myself. I am planning to go to UCLA in the fall.\n",
        "clusters: 33 skipped 890 (89.0%) tweets our of 1000 total tweets\n"
       ]
      },
      {
       "output_type": "pyout",
       "prompt_number": 16,
       "text": [
        "{'clusters': 33, 'sil_score': 0.11, 'skipped': 890, 'total': 1000}"
       ]
      }
     ],
     "prompt_number": 16
    },
    {
     "cell_type": "raw",
     "metadata": {},
     "source": [
      "This section explores composite clustering, where final clustering based on a set of other clustered results.  Use groupings from other clusterings as features for aggregate clustering."
     ]
    },
    {
     "cell_type": "code",
     "collapsed": false,
     "input": [
      "# My wrapper for above clustering routine\n",
      "def reset_composite(tweets):\n",
      "    \"resets the composite property\"\n",
      "    for tweet in tweets:\n",
      "        tweet['composite'] = [] \n",
      "    \n",
      "def promote_composite(tweets):\n",
      "    \"moves composite property to tokens property\"\n",
      "    for tweet in tweets:\n",
      "        if tweet['composite']:\n",
      "            tweet['tokens'] = tweet['composite']\n",
      "        else:\n",
      "            tweet['tokens'] = ['**empty**']"
     ],
     "language": "python",
     "metadata": {},
     "outputs": [],
     "prompt_number": "*"
    },
    {
     "cell_type": "code",
     "collapsed": false,
     "input": [
      "reset_composite(tweet_set)\n",
      "\n",
      "fx.reset_features(tweet_set)\n",
      "fx.extract_tokens(tweet_set, filter='hashtag', exclude=['ucla', '#ucla'])\n",
      "annotate_clustering_results(tweet_set, 'hash')\n",
      "\n",
      "fx.reset_features(tweet_set)\n",
      "fx.extract_lemmatize_tokens(tweet_set, filter='nominal', exclude=['ucla', '#ucla'])\n",
      "annotate_clustering_results(tweet_set, 'nom')\n",
      "\n",
      "#fx.reset_features(tweet_set)\n",
      "#fx.extract_lemmatize_tokens(tweet_set, filter='noun', exclude=['ucla', '#ucla'])\n",
      "#annotate_clustering_results(tweet_set, 'noun')\n",
      "\n",
      "#fx.reset_features(tweet_set)\n",
      "#fx.extract_bigrams(tweet_set)\n",
      "#annotate_clustering_results(tweet_set, 'bi')\n",
      "\n",
      "fx.reset_features(tweet_set)\n",
      "fx.extract_lemmatize_bigrams(tweet_set)\n",
      "annotate_clustering_results(tweet_set, 'bil')\n",
      "\n",
      "fx.reset_features(tweet_set)\n",
      "promote_composite(tweet_set)\n",
      "#perform_tweet_clustering(tweet_set)"
     ],
     "language": "python",
     "metadata": {},
     "outputs": [],
     "prompt_number": "*"
    },
    {
     "cell_type": "code",
     "collapsed": false,
     "input": [],
     "language": "python",
     "metadata": {},
     "outputs": [],
     "prompt_number": "*"
    }
   ],
   "metadata": {}
  }
 ]
}